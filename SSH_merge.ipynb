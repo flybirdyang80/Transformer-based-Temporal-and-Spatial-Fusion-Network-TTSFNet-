{
 "cells": [
  {
   "cell_type": "code",
   "execution_count": 1,
   "id": "af58c65c",
   "metadata": {
    "ExecuteTime": {
     "end_time": "2023-11-10T02:53:56.106646Z",
     "start_time": "2023-11-10T02:53:54.609054Z"
    }
   },
   "outputs": [],
   "source": [
    "import gzip\n",
    "import matplotlib.pyplot as plt\n",
    "%matplotlib inline\n",
    "import numpy as np\n",
    "import netCDF4 as nc\n",
    "import match\n",
    "from netCDF4 import Dataset\n",
    "import xarray as xr\n",
    "import os \n",
    "import pandas as pd  \n",
    "from datetime import datetime"
   ]
  },
  {
   "cell_type": "code",
   "execution_count": 7,
   "id": "bdfd358a",
   "metadata": {
    "ExecuteTime": {
     "end_time": "2023-11-10T02:56:02.015162Z",
     "start_time": "2023-11-10T02:56:02.011168Z"
    }
   },
   "outputs": [],
   "source": [
    "folder_path = 'D:/data/SSH/'  # 文件夹路径\n",
    "file_names = ['SSH_2011-2015_month.nc','SSH_2016-2021_month.nc']"
   ]
  },
  {
   "cell_type": "code",
   "execution_count": 8,
   "id": "baa4d904",
   "metadata": {
    "ExecuteTime": {
     "end_time": "2023-11-10T02:56:02.842831Z",
     "start_time": "2023-11-10T02:56:02.838837Z"
    }
   },
   "outputs": [
    {
     "name": "stdout",
     "output_type": "stream",
     "text": [
      "SSH_2011-2015_month.nc\n",
      "SSH_2016-2021_month.nc\n"
     ]
    }
   ],
   "source": [
    "#输出所有文件名\n",
    "for file_name in file_names:\n",
    "    print(file_name)"
   ]
  },
  {
   "cell_type": "code",
   "execution_count": null,
   "id": "a7a37bc1",
   "metadata": {},
   "outputs": [],
   "source": []
  }
 ],
 "metadata": {
  "kernelspec": {
   "display_name": "Python [conda env:python] *",
   "language": "python",
   "name": "conda-env-python-py"
  },
  "language_info": {
   "codemirror_mode": {
    "name": "ipython",
    "version": 3
   },
   "file_extension": ".py",
   "mimetype": "text/x-python",
   "name": "python",
   "nbconvert_exporter": "python",
   "pygments_lexer": "ipython3",
   "version": "3.8.17"
  },
  "toc": {
   "base_numbering": 1,
   "nav_menu": {},
   "number_sections": true,
   "sideBar": true,
   "skip_h1_title": false,
   "title_cell": "Table of Contents",
   "title_sidebar": "Contents",
   "toc_cell": false,
   "toc_position": {},
   "toc_section_display": true,
   "toc_window_display": false
  }
 },
 "nbformat": 4,
 "nbformat_minor": 5
}
