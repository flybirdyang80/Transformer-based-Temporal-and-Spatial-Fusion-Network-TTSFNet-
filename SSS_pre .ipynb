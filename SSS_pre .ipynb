{
 "cells": [
  {
   "cell_type": "code",
   "execution_count": 1,
   "id": "cbc5fdfb",
   "metadata": {
    "ExecuteTime": {
     "end_time": "2023-11-09T07:15:56.880891Z",
     "start_time": "2023-11-09T07:15:50.767734Z"
    }
   },
   "outputs": [],
   "source": [
    "import gzip\n",
    "import matplotlib.pyplot as plt\n",
    "%matplotlib inline\n",
    "import numpy as np\n",
    "import netCDF4 as nc\n",
    "import match\n",
    "from netCDF4 import Dataset\n",
    "import xarray as xr\n",
    "import os \n",
    "import pandas as pd  \n",
    "from datetime import datetime"
   ]
  },
  {
   "cell_type": "markdown",
   "id": "8a2239b0",
   "metadata": {},
   "source": [
    "# 生成文件目录"
   ]
  },
  {
   "cell_type": "code",
   "execution_count": 5,
   "id": "edbf42d5",
   "metadata": {
    "ExecuteTime": {
     "end_time": "2023-11-09T07:18:05.196330Z",
     "start_time": "2023-11-09T07:18:05.190339Z"
    }
   },
   "outputs": [
    {
     "data": {
      "text/plain": [
       "132"
      ]
     },
     "execution_count": 5,
     "metadata": {},
     "output_type": "execute_result"
    }
   ],
   "source": [
    "start_year = 2011\n",
    "end_year = 2021\n",
    "\n",
    "folder_path = 'D:/data/SSS/2011-2021/'  # 文件夹路径\n",
    "file_names = os.listdir(folder_path)  \n",
    "len(file_names)  "
   ]
  },
  {
   "cell_type": "code",
   "execution_count": 6,
   "id": "5442a4f0",
   "metadata": {
    "ExecuteTime": {
     "end_time": "2023-11-09T07:18:31.263366Z",
     "start_time": "2023-11-09T07:18:30.529548Z"
    }
   },
   "outputs": [],
   "source": [
    "file_new = [] \n",
    "for i in range(len(file_names)):\n",
    "    SSS = xr.open_dataset(folder_path+file_names[i])\n",
    "    file_new.append(SSS)"
   ]
  },
  {
   "cell_type": "code",
   "execution_count": 7,
   "id": "a15831c4",
   "metadata": {
    "ExecuteTime": {
     "end_time": "2023-11-09T07:18:33.616578Z",
     "start_time": "2023-11-09T07:18:33.612584Z"
    }
   },
   "outputs": [
    {
     "data": {
      "text/plain": [
       "132"
      ]
     },
     "execution_count": 7,
     "metadata": {},
     "output_type": "execute_result"
    }
   ],
   "source": [
    "len(file_new)"
   ]
  },
  {
   "cell_type": "code",
   "execution_count": 8,
   "id": "029e0cd0",
   "metadata": {
    "ExecuteTime": {
     "end_time": "2023-11-09T07:23:06.509029Z",
     "start_time": "2023-11-09T07:18:49.591509Z"
    }
   },
   "outputs": [],
   "source": [
    "data = xr.concat(file_new,dim='time')\n",
    "data_path = r'D:/data/SSS/2011-2021_SSS_concat.nc' \n",
    "data.to_netcdf(data_path)"
   ]
  },
  {
   "cell_type": "markdown",
   "id": "841c19b3",
   "metadata": {},
   "source": [
    "# 读取合并数据"
   ]
  },
  {
   "cell_type": "code",
   "execution_count": 9,
   "id": "4468c951",
   "metadata": {
    "ExecuteTime": {
     "end_time": "2023-11-09T07:27:38.917451Z",
     "start_time": "2023-11-09T07:27:24.938946Z"
    }
   },
   "outputs": [
    {
     "name": "stdout",
     "output_type": "stream",
     "text": [
      "dict_keys(['time', 'depth', 'lat', 'lon', 'sos', 'dos', 'sos_error', 'dos_error', 'sea_ice_fraction'])\n",
      "time (132,)\n",
      "depth (1,)\n",
      "lat (720,)\n",
      "lon (1440,)\n",
      "sos (132, 1, 720, 1440)\n",
      "dos (132, 1, 720, 1440)\n",
      "sos_error (132, 1, 720, 1440)\n",
      "dos_error (132, 1, 720, 1440)\n",
      "sea_ice_fraction (132, 1, 720, 1440)\n"
     ]
    }
   ],
   "source": [
    "nc = Dataset(data_path)\n",
    "print(nc.variables.keys())\n",
    "\n",
    "for var in nc.variables.keys():\n",
    "    data = nc.variables[var][:].data\n",
    "    print(var,data.shape)"
   ]
  },
  {
   "cell_type": "code",
   "execution_count": 10,
   "id": "f44ab5dc",
   "metadata": {
    "ExecuteTime": {
     "end_time": "2023-11-09T07:27:56.324666Z",
     "start_time": "2023-11-09T07:27:53.722853Z"
    }
   },
   "outputs": [
    {
     "data": {
      "text/plain": [
       "(132, 1, 720, 1440)"
      ]
     },
     "execution_count": 10,
     "metadata": {},
     "output_type": "execute_result"
    }
   ],
   "source": [
    "nc.variables['sos'][:].mask.shape "
   ]
  },
  {
   "cell_type": "markdown",
   "id": "af07dc89",
   "metadata": {},
   "source": [
    "# 记录数据"
   ]
  },
  {
   "cell_type": "code",
   "execution_count": 12,
   "id": "3c67fa6f",
   "metadata": {
    "ExecuteTime": {
     "end_time": "2023-11-09T07:28:21.175734Z",
     "start_time": "2023-11-09T07:28:21.171740Z"
    }
   },
   "outputs": [],
   "source": [
    "lat = []\n",
    "lon = []\n",
    "sos = []\n",
    "time = [] "
   ]
  },
  {
   "cell_type": "code",
   "execution_count": 27,
   "id": "debcc774",
   "metadata": {
    "ExecuteTime": {
     "end_time": "2023-11-09T07:35:41.748347Z",
     "start_time": "2023-11-09T07:35:39.040704Z"
    }
   },
   "outputs": [],
   "source": [
    "sos = nc.variables['sos'][:].data\n",
    "sos[sos == -32767] = np.nan"
   ]
  },
  {
   "cell_type": "code",
   "execution_count": 28,
   "id": "9f78a195",
   "metadata": {
    "ExecuteTime": {
     "end_time": "2023-11-09T07:35:41.754337Z",
     "start_time": "2023-11-09T07:35:41.749345Z"
    }
   },
   "outputs": [
    {
     "data": {
      "text/plain": [
       "(132, 720, 1440)"
      ]
     },
     "execution_count": 28,
     "metadata": {},
     "output_type": "execute_result"
    }
   ],
   "source": [
    "sos = np.squeeze(sos)\n",
    "sos.shape "
   ]
  },
  {
   "cell_type": "code",
   "execution_count": 23,
   "id": "61153b38",
   "metadata": {
    "ExecuteTime": {
     "end_time": "2023-11-09T07:32:00.402157Z",
     "start_time": "2023-11-09T07:31:57.842277Z"
    }
   },
   "outputs": [],
   "source": [
    "sos_mask = nc.variables['sos'][:].mask"
   ]
  },
  {
   "cell_type": "code",
   "execution_count": 25,
   "id": "1689e676",
   "metadata": {
    "ExecuteTime": {
     "end_time": "2023-11-09T07:32:18.131376Z",
     "start_time": "2023-11-09T07:32:18.126384Z"
    }
   },
   "outputs": [
    {
     "data": {
      "text/plain": [
       "(132, 720, 1440)"
      ]
     },
     "execution_count": 25,
     "metadata": {},
     "output_type": "execute_result"
    }
   ],
   "source": [
    "sos_mask = np.squeeze(sos_mask)\n",
    "sos_mask.shape "
   ]
  },
  {
   "cell_type": "markdown",
   "id": "c4ad8238",
   "metadata": {},
   "source": [
    "## 获取 lat lon time "
   ]
  },
  {
   "cell_type": "code",
   "execution_count": 16,
   "id": "a67d97a1",
   "metadata": {
    "ExecuteTime": {
     "end_time": "2023-11-09T07:29:27.606674Z",
     "start_time": "2023-11-09T07:29:27.599685Z"
    }
   },
   "outputs": [],
   "source": [
    "temp = Dataset(folder_path + file_names[0])\n",
    "lat.append(temp.variables['lat'][:].data)\n",
    "lon.append(temp.variables['lon'][:].data)"
   ]
  },
  {
   "cell_type": "code",
   "execution_count": 17,
   "id": "d3df0640",
   "metadata": {
    "ExecuteTime": {
     "end_time": "2023-11-09T07:29:28.550155Z",
     "start_time": "2023-11-09T07:29:28.544165Z"
    }
   },
   "outputs": [],
   "source": [
    "time = []\n",
    "date_range = pd.date_range(datetime(start_year,1,1),datetime(end_year+1,1,1),freq='1M')\n",
    "len(date_range)\n",
    "for i in range(len(date_range)):\n",
    "    time.append(i)"
   ]
  },
  {
   "cell_type": "code",
   "execution_count": 18,
   "id": "e0745aee",
   "metadata": {
    "ExecuteTime": {
     "end_time": "2023-11-09T07:29:29.275987Z",
     "start_time": "2023-11-09T07:29:29.271994Z"
    }
   },
   "outputs": [
    {
     "data": {
      "text/plain": [
       "132"
      ]
     },
     "execution_count": 18,
     "metadata": {},
     "output_type": "execute_result"
    }
   ],
   "source": [
    "len(time)"
   ]
  },
  {
   "cell_type": "markdown",
   "id": "949d8994",
   "metadata": {},
   "source": [
    "# 保存数据"
   ]
  },
  {
   "cell_type": "code",
   "execution_count": 19,
   "id": "95003206",
   "metadata": {
    "ExecuteTime": {
     "end_time": "2023-11-09T07:29:33.513005Z",
     "start_time": "2023-11-09T07:29:33.509012Z"
    }
   },
   "outputs": [
    {
     "data": {
      "text/plain": [
       "0"
      ]
     },
     "execution_count": 19,
     "metadata": {},
     "output_type": "execute_result"
    }
   ],
   "source": [
    "len(depth)"
   ]
  },
  {
   "cell_type": "code",
   "execution_count": 20,
   "id": "dbff365d",
   "metadata": {
    "ExecuteTime": {
     "end_time": "2023-11-09T07:29:33.932330Z",
     "start_time": "2023-11-09T07:29:33.927339Z"
    }
   },
   "outputs": [
    {
     "data": {
      "text/plain": [
       "0"
      ]
     },
     "execution_count": 20,
     "metadata": {},
     "output_type": "execute_result"
    }
   ],
   "source": [
    "time[0]"
   ]
  },
  {
   "cell_type": "code",
   "execution_count": 29,
   "id": "b22e59bc",
   "metadata": {
    "ExecuteTime": {
     "end_time": "2023-11-09T07:35:46.895063Z",
     "start_time": "2023-11-09T07:35:45.567201Z"
    }
   },
   "outputs": [],
   "source": [
    "# 只保存风速和风速异常\n",
    "#创建新文件\n",
    "#new_NC.close()\n",
    "new_NC = Dataset(\"D:/data/SSS/2011-2021_SSS_correct.nc\", 'w', format='NETCDF4')\n",
    "\n",
    "new_NC.createDimension('time', len(time))\n",
    "new_NC.createDimension('lat', len(lat[0]))\n",
    "new_NC.createDimension('lon', len(lon[0]))\n",
    "\n",
    "time_var = new_NC.createVariable('time', 'f4',(\"time\"))\n",
    "time_var.units = 'months since 2011-01-15'\n",
    "time_var.long_name = 'Months in Monthly Means'\n",
    "time_var.axis = 'T' \n",
    "\n",
    "new_NC.createVariable('lat', 'f', (\"lat\"))\n",
    "new_NC.createVariable('lon', 'f', (\"lon\"))\n",
    "new_NC.createVariable('sos', 'f', (\"time\",\"lat\",\"lon\"))\n",
    "new_NC.createVariable('sos_mask', 'f', (\"time\",\"lat\",\"lon\"))\n",
    "\n",
    "#向变量中填充数据\n",
    "new_NC.variables['lat'][:] = lat[0]\n",
    "new_NC.variables['lon'][:] = lon[0]\n",
    "new_NC.variables['time'][:] = np.array(time)\n",
    "new_NC.variables['sos'][:]=np.array(sos)\n",
    "new_NC.variables['sos_mask'][:]=np.array(sos_mask)\n",
    "\n",
    "#最后记得关闭文件\n",
    "new_NC.close()"
   ]
  },
  {
   "cell_type": "code",
   "execution_count": null,
   "id": "11c113c6",
   "metadata": {},
   "outputs": [],
   "source": []
  }
 ],
 "metadata": {
  "kernelspec": {
   "display_name": "Python [conda env:python] *",
   "language": "python",
   "name": "conda-env-python-py"
  },
  "language_info": {
   "codemirror_mode": {
    "name": "ipython",
    "version": 3
   },
   "file_extension": ".py",
   "mimetype": "text/x-python",
   "name": "python",
   "nbconvert_exporter": "python",
   "pygments_lexer": "ipython3",
   "version": "3.8.17"
  },
  "toc": {
   "base_numbering": 1,
   "nav_menu": {},
   "number_sections": true,
   "sideBar": true,
   "skip_h1_title": false,
   "title_cell": "Table of Contents",
   "title_sidebar": "Contents",
   "toc_cell": false,
   "toc_position": {},
   "toc_section_display": true,
   "toc_window_display": false
  }
 },
 "nbformat": 4,
 "nbformat_minor": 5
}
