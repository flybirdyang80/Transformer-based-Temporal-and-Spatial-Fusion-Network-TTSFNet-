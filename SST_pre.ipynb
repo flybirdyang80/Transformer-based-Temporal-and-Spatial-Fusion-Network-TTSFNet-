{
 "cells": [
  {
   "cell_type": "code",
   "execution_count": 1,
   "id": "53f92b76",
   "metadata": {
    "ExecuteTime": {
     "end_time": "2023-11-12T06:51:11.186567Z",
     "start_time": "2023-11-12T06:51:01.530106Z"
    }
   },
   "outputs": [],
   "source": [
    "import gzip\n",
    "import matplotlib.pyplot as plt\n",
    "%matplotlib inline\n",
    "import numpy as np\n",
    "import netCDF4 as nc\n",
    "import match\n",
    "from netCDF4 import Dataset\n",
    "import xarray as xr\n",
    "import os \n",
    "import pandas as pd  \n",
    "from datetime import datetime"
   ]
  },
  {
   "cell_type": "markdown",
   "id": "07e9ece3",
   "metadata": {},
   "source": [
    "# 生成文件目录"
   ]
  },
  {
   "cell_type": "code",
   "execution_count": 3,
   "id": "d8f96124",
   "metadata": {
    "ExecuteTime": {
     "end_time": "2023-11-12T06:51:25.091924Z",
     "start_time": "2023-11-12T06:51:25.085933Z"
    }
   },
   "outputs": [
    {
     "data": {
      "text/plain": [
       "365"
      ]
     },
     "execution_count": 3,
     "metadata": {},
     "output_type": "execute_result"
    }
   ],
   "source": [
    "start_year = 2021\n",
    "end_year = 2021\n",
    "\n",
    "folder_path = 'D:/data/SST/2021_/'  # 文件夹路径\n",
    "file_names = os.listdir(folder_path)  \n",
    "len(file_names)  "
   ]
  },
  {
   "cell_type": "code",
   "execution_count": 4,
   "id": "b9235449",
   "metadata": {
    "ExecuteTime": {
     "end_time": "2023-11-12T06:51:26.874672Z",
     "start_time": "2023-11-12T06:51:26.869680Z"
    }
   },
   "outputs": [
    {
     "data": {
      "text/plain": [
       "('20210101120000-UKMO-L4_GHRSST-SSTfnd-OSTIA-GLOB_REP-v02.0-fv02.0.nc',\n",
       " '20211231120000-UKMO-L4_GHRSST-SSTfnd-OSTIA-GLOB_REP-v02.0-fv02.0.nc')"
      ]
     },
     "execution_count": 4,
     "metadata": {},
     "output_type": "execute_result"
    }
   ],
   "source": [
    "file_names[0],file_names[-1]"
   ]
  },
  {
   "cell_type": "code",
   "execution_count": 5,
   "id": "78cecbac",
   "metadata": {
    "ExecuteTime": {
     "end_time": "2023-11-12T07:00:14.130203Z",
     "start_time": "2023-11-12T06:51:28.954359Z"
    }
   },
   "outputs": [],
   "source": [
    "# 打开所有nc文件\n",
    "datasets = [xr.open_dataset(folder_path + file_name) for file_name in file_names]\n",
    "# 合并多个数据集\n",
    "merged_dataset = xr.concat(datasets, dim='time')  # 'time'是合并的维度"
   ]
  },
  {
   "cell_type": "code",
   "execution_count": 5,
   "id": "bfe0b9c4",
   "metadata": {
    "ExecuteTime": {
     "end_time": "2023-11-11T06:39:16.924398Z",
     "start_time": "2023-11-11T05:52:24.448631Z"
    }
   },
   "outputs": [],
   "source": [
    "#merged_dataset.to_netcdf('D:/data/SST/SST_2013-2014_concat.nc')"
   ]
  },
  {
   "cell_type": "markdown",
   "id": "e0658402",
   "metadata": {},
   "source": [
    "# 读取合并数据"
   ]
  },
  {
   "cell_type": "code",
   "execution_count": 6,
   "id": "2f56763b",
   "metadata": {
    "ExecuteTime": {
     "end_time": "2023-11-12T07:48:32.410851Z",
     "start_time": "2023-11-12T07:48:32.399892Z"
    }
   },
   "outputs": [
    {
     "name": "stdout",
     "output_type": "stream",
     "text": [
      "time (365,)\n",
      "lat (3600,)\n",
      "lon (7200,)\n",
      "analysed_sst (365, 3600, 7200)\n",
      "analysis_error (365, 3600, 7200)\n",
      "sea_ice_fraction (365, 3600, 7200)\n",
      "mask (365, 3600, 7200)\n"
     ]
    }
   ],
   "source": [
    "for var in merged_dataset.variables.keys():\n",
    "    data = merged_dataset.variables[var][:].data\n",
    "    print(var,data.shape)"
   ]
  },
  {
   "cell_type": "code",
   "execution_count": 7,
   "id": "d36a3467",
   "metadata": {
    "ExecuteTime": {
     "end_time": "2023-11-12T07:48:32.876101Z",
     "start_time": "2023-11-12T07:48:32.873106Z"
    },
    "code_folding": [
     0
    ]
   },
   "outputs": [],
   "source": [
    "# nc = Dataset('D:/data/SST/SST_2011-2012_concat.nc')\n",
    "# print(nc.variables.keys())\n",
    "\n",
    "# for var in nc.variables.keys():\n",
    "#     data = nc.variables[var][:].data\n",
    "#     print(var,data.shape)"
   ]
  },
  {
   "cell_type": "code",
   "execution_count": 8,
   "id": "2df26a74",
   "metadata": {
    "ExecuteTime": {
     "end_time": "2023-11-12T07:48:35.738495Z",
     "start_time": "2023-11-12T07:48:35.733503Z"
    }
   },
   "outputs": [],
   "source": [
    "sst = merged_dataset.variables['analysed_sst'][:].data\n",
    "#mask = merged_dataset.variables['mask'][0].data\n",
    "\n",
    "lat   =  merged_dataset.variables['lat'][:].data\n",
    "lon   =  merged_dataset.variables['lon'][:].data"
   ]
  },
  {
   "cell_type": "code",
   "execution_count": 9,
   "id": "cc5667f1",
   "metadata": {
    "ExecuteTime": {
     "end_time": "2023-11-12T07:48:44.448479Z",
     "start_time": "2023-11-12T07:48:36.064970Z"
    }
   },
   "outputs": [],
   "source": [
    "sst[sst == -32768] = np.nan"
   ]
  },
  {
   "cell_type": "code",
   "execution_count": 10,
   "id": "b27566d6",
   "metadata": {
    "ExecuteTime": {
     "end_time": "2023-11-12T07:48:44.455468Z",
     "start_time": "2023-11-12T07:48:44.450476Z"
    }
   },
   "outputs": [],
   "source": [
    "start_year = 2019\n",
    "end_year = 2019\n",
    "time = []\n",
    "date_range = pd.date_range(datetime(start_year,1,1),datetime(end_year,12,31),freq='1d')\n",
    "len(date_range)\n",
    "for i in range(len(date_range)):\n",
    "    time.append(i)"
   ]
  },
  {
   "cell_type": "code",
   "execution_count": 11,
   "id": "2f8bc04b",
   "metadata": {
    "ExecuteTime": {
     "end_time": "2023-11-12T07:48:44.461459Z",
     "start_time": "2023-11-12T07:48:44.456467Z"
    }
   },
   "outputs": [
    {
     "data": {
      "text/plain": [
       "365"
      ]
     },
     "execution_count": 11,
     "metadata": {},
     "output_type": "execute_result"
    }
   ],
   "source": [
    "len(time)"
   ]
  },
  {
   "cell_type": "markdown",
   "id": "c3c06a1d",
   "metadata": {},
   "source": [
    "# 保存数据"
   ]
  },
  {
   "cell_type": "code",
   "execution_count": null,
   "id": "002ec906",
   "metadata": {},
   "outputs": [],
   "source": []
  },
  {
   "cell_type": "code",
   "execution_count": 12,
   "id": "3c2110ad",
   "metadata": {
    "ExecuteTime": {
     "end_time": "2023-11-12T07:50:28.873151Z",
     "start_time": "2023-11-12T07:49:08.597498Z"
    }
   },
   "outputs": [],
   "source": [
    "#new_NC.close()\n",
    "new_NC = Dataset(\"D:/data/SST/SST_2021_day.nc\", 'w', format='NETCDF4')\n",
    "\n",
    "new_NC.createDimension('lat', len(lat))\n",
    "new_NC.createDimension('lon', len(lon))\n",
    "new_NC.createDimension('time', len(time))\n",
    "#new_NC.createDimension('sst_mask', 1)\n",
    "\n",
    "time_var = new_NC.createVariable('time', 'f4',(\"time\"))\n",
    "time_var.units = 'days since 2021-01-01'\n",
    "time_var.long_name = 'days'\n",
    "time_var.axis = 'T' \n",
    "\n",
    "new_NC.createVariable('lat', 'f', (\"lat\"))\n",
    "new_NC.createVariable('lon', 'f', (\"lon\"))\n",
    "\n",
    "new_NC.createVariable('sst', 'f',(\"time\",\"lat\",\"lon\"))\n",
    "\n",
    "#向变量中填充数据\n",
    "new_NC.variables['lat'][:] = lat\n",
    "new_NC.variables['lon'][:] = lon\n",
    "new_NC.variables['time'][:] = np.array(time)\n",
    "\n",
    "new_NC.variables['sst'][:]=np.array(sst)\n",
    " \n",
    "#最后记得关闭文件\n",
    "new_NC.close()"
   ]
  },
  {
   "cell_type": "markdown",
   "id": "6a285d07",
   "metadata": {},
   "source": [
    "# 按月求平均值"
   ]
  },
  {
   "cell_type": "code",
   "execution_count": 13,
   "id": "a4be48e5",
   "metadata": {
    "ExecuteTime": {
     "end_time": "2023-11-12T07:55:11.074763Z",
     "start_time": "2023-11-12T07:55:11.069771Z"
    }
   },
   "outputs": [
    {
     "data": {
      "text/plain": [
       "(365, 3600, 7200)"
      ]
     },
     "execution_count": 13,
     "metadata": {},
     "output_type": "execute_result"
    }
   ],
   "source": [
    "sst.shape"
   ]
  },
  {
   "cell_type": "code",
   "execution_count": 14,
   "id": "d9fe78b7",
   "metadata": {
    "ExecuteTime": {
     "end_time": "2023-11-12T07:56:14.739116Z",
     "start_time": "2023-11-12T07:55:20.094425Z"
    }
   },
   "outputs": [
    {
     "name": "stderr",
     "output_type": "stream",
     "text": [
      "C:\\Users\\Administrator\\AppData\\Local\\Temp\\ipykernel_9028\\2735911252.py:24: RuntimeWarning: Mean of empty slice\n",
      "  monthly_average_sst = np.nanmean(monthly_data_sst, axis=0)\n"
     ]
    }
   ],
   "source": [
    "import numpy as np\n",
    "import calendar\n",
    "\n",
    "# 假设data是您的数据，形状为 (4017, 720, 1440)\n",
    "# 获取数据的形状\n",
    "#1826       720        1440\n",
    "num_days, num_rows, num_cols = sst.shape\n",
    "\n",
    "# 创建一个数组来存储月平均值\n",
    "monthly_averages_sst = []\n",
    "\n",
    "start_day = 0 \n",
    "\n",
    "for year in range(2021, 2022):  # 从2016年到2021年\n",
    "    for month in range(1, 13):  # 1月到12月\n",
    "        # 获取当前月份的天数，考虑年份和闰年\n",
    "        days_in_month = calendar.monthrange(year, month)[1]\n",
    "        # 在数据中选择当前月份的数据\n",
    "        end_day = start_day + days_in_month\n",
    "#         print(year,'年',month,'月')\n",
    "#         print(start_day,end_day)\n",
    "        monthly_data_sst = sst[start_day:end_day]\n",
    "        # 计算每个月的平均值，并添加到结果数组中\n",
    "        monthly_average_sst = np.nanmean(monthly_data_sst, axis=0)\n",
    "    \n",
    "        monthly_averages_sst.append(monthly_average_sst)\n",
    "        \n",
    "        start_day = end_day"
   ]
  },
  {
   "cell_type": "code",
   "execution_count": 15,
   "id": "a6d56919",
   "metadata": {
    "ExecuteTime": {
     "end_time": "2023-11-12T07:56:14.746105Z",
     "start_time": "2023-11-12T07:56:14.741113Z"
    }
   },
   "outputs": [
    {
     "data": {
      "text/plain": [
       "12"
      ]
     },
     "execution_count": 15,
     "metadata": {},
     "output_type": "execute_result"
    }
   ],
   "source": [
    "len(monthly_averages_sst)"
   ]
  },
  {
   "cell_type": "markdown",
   "id": "05420ecd",
   "metadata": {},
   "source": [
    "## 获取时间"
   ]
  },
  {
   "cell_type": "code",
   "execution_count": 16,
   "id": "9910c74c",
   "metadata": {
    "ExecuteTime": {
     "end_time": "2023-11-12T07:56:14.752095Z",
     "start_time": "2023-11-12T07:56:14.747103Z"
    }
   },
   "outputs": [],
   "source": [
    "start_year = 2021\n",
    "end_year =2021\n",
    "time = []\n",
    "date_range = pd.date_range(datetime(start_year,1,1),datetime(end_year,12,31),freq='1m')\n",
    "len(date_range)\n",
    "for i in range(len(date_range)):\n",
    "    time.append(i)"
   ]
  },
  {
   "cell_type": "code",
   "execution_count": 17,
   "id": "084b98e2",
   "metadata": {
    "ExecuteTime": {
     "end_time": "2023-11-12T07:56:14.758085Z",
     "start_time": "2023-11-12T07:56:14.753093Z"
    }
   },
   "outputs": [
    {
     "data": {
      "text/plain": [
       "12"
      ]
     },
     "execution_count": 17,
     "metadata": {},
     "output_type": "execute_result"
    }
   ],
   "source": [
    "len(time)"
   ]
  },
  {
   "cell_type": "markdown",
   "id": "000bf99f",
   "metadata": {},
   "source": [
    "# 保存月平均数据"
   ]
  },
  {
   "cell_type": "code",
   "execution_count": 18,
   "id": "27723a1e",
   "metadata": {
    "ExecuteTime": {
     "end_time": "2023-11-12T08:01:09.413911Z",
     "start_time": "2023-11-12T08:01:08.731012Z"
    }
   },
   "outputs": [
    {
     "data": {
      "text/plain": [
       "(12, 3600, 7200)"
      ]
     },
     "execution_count": 18,
     "metadata": {},
     "output_type": "execute_result"
    }
   ],
   "source": [
    "np.array(monthly_averages_sst).shape"
   ]
  },
  {
   "cell_type": "code",
   "execution_count": 19,
   "id": "ccd9ecee",
   "metadata": {
    "ExecuteTime": {
     "end_time": "2023-11-12T03:32:42.760484Z",
     "start_time": "2023-11-12T03:32:42.756490Z"
    }
   },
   "outputs": [],
   "source": [
    "# new_NC.close()"
   ]
  },
  {
   "cell_type": "code",
   "execution_count": 19,
   "id": "cf6aec79",
   "metadata": {
    "ExecuteTime": {
     "end_time": "2023-11-12T08:01:23.538358Z",
     "start_time": "2023-11-12T08:01:22.182543Z"
    }
   },
   "outputs": [],
   "source": [
    "#new_NC.close()\n",
    "new_NC = Dataset(\"D:/data/SST/SST_2021_month.nc\", 'w', format='NETCDF4')\n",
    "\n",
    "new_NC.createDimension('lat', len(lat))\n",
    "new_NC.createDimension('lon', len(lon))\n",
    "new_NC.createDimension('time', len(time))\n",
    "\n",
    "\n",
    "time_var = new_NC.createVariable('time', 'f4',(\"time\"))\n",
    "time_var.units = 'months since 2021-01-15'\n",
    "time_var.long_name = 'months'\n",
    "time_var.axis = 'T' \n",
    "\n",
    "new_NC.createVariable('lat', 'f', (\"lat\"))\n",
    "new_NC.createVariable('lon', 'f', (\"lon\"))\n",
    "new_NC.createVariable('sst', 'f',(\"time\",\"lat\",\"lon\"))\n",
    "\n",
    "#向变量中填充数据\n",
    "new_NC.variables['lat'][:] = lat\n",
    "new_NC.variables['lon'][:] = lon\n",
    "new_NC.variables['time'][:] = np.array(time)\n",
    "new_NC.variables['sst'][:]=np.array(monthly_averages_sst)\n",
    " \n",
    "#最后记得关闭文件\n",
    "new_NC.close()\n",
    "\n"
   ]
  },
  {
   "cell_type": "code",
   "execution_count": 34,
   "id": "15f98426",
   "metadata": {
    "ExecuteTime": {
     "end_time": "2023-11-09T11:20:00.939803Z",
     "start_time": "2023-11-09T11:20:00.935798Z"
    }
   },
   "outputs": [
    {
     "data": {
      "text/plain": [
       "(1, 720, 1440)"
      ]
     },
     "execution_count": 34,
     "metadata": {},
     "output_type": "execute_result"
    }
   ],
   "source": [
    "adt_mask[0:1].shape"
   ]
  },
  {
   "cell_type": "code",
   "execution_count": null,
   "id": "b47cab0d",
   "metadata": {},
   "outputs": [],
   "source": []
  }
 ],
 "metadata": {
  "kernelspec": {
   "display_name": "Python [conda env:python] *",
   "language": "python",
   "name": "conda-env-python-py"
  },
  "language_info": {
   "codemirror_mode": {
    "name": "ipython",
    "version": 3
   },
   "file_extension": ".py",
   "mimetype": "text/x-python",
   "name": "python",
   "nbconvert_exporter": "python",
   "pygments_lexer": "ipython3",
   "version": "3.8.17"
  },
  "toc": {
   "base_numbering": 1,
   "nav_menu": {},
   "number_sections": true,
   "sideBar": true,
   "skip_h1_title": false,
   "title_cell": "Table of Contents",
   "title_sidebar": "Contents",
   "toc_cell": false,
   "toc_position": {},
   "toc_section_display": true,
   "toc_window_display": false
  }
 },
 "nbformat": 4,
 "nbformat_minor": 5
}
