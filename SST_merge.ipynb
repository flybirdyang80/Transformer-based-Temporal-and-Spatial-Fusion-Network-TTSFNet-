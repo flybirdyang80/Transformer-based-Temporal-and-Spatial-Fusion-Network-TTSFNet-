{
 "cells": [
  {
   "cell_type": "code",
   "execution_count": 1,
   "id": "7606d1ba",
   "metadata": {
    "ExecuteTime": {
     "end_time": "2023-11-12T08:06:47.301451Z",
     "start_time": "2023-11-12T08:06:45.757936Z"
    }
   },
   "outputs": [],
   "source": [
    "import gzip\n",
    "import matplotlib.pyplot as plt\n",
    "%matplotlib inline\n",
    "import numpy as np\n",
    "import netCDF4 as nc\n",
    "import match\n",
    "from netCDF4 import Dataset\n",
    "import xarray as xra\n",
    "import os \n",
    "import pandas as pd  \n",
    "from datetime import datetime"
   ]
  },
  {
   "cell_type": "code",
   "execution_count": 4,
   "id": "1d4f2122",
   "metadata": {
    "ExecuteTime": {
     "end_time": "2023-11-12T08:12:27.018417Z",
     "start_time": "2023-11-12T08:12:27.014424Z"
    }
   },
   "outputs": [],
   "source": [
    "folder_path = 'D:/data/SST/'\n",
    "file_names = ['SST_2011-2012_month.nc','SST_2013-2014_month.nc','SST_2015-2016_month.nc',\n",
    "             'SST_2017-2018_month.nc','SST_2019-2020_month.nc','SST_2021_month.nc']"
   ]
  },
  {
   "cell_type": "code",
   "execution_count": 8,
   "id": "5ee50443",
   "metadata": {
    "ExecuteTime": {
     "end_time": "2023-11-12T08:16:27.895119Z",
     "start_time": "2023-11-12T08:16:27.835216Z"
    }
   },
   "outputs": [],
   "source": [
    "file_new = []\n",
    "for i in range(len(file_names)):\n",
    "    SST = nc.Dataset((folder_path+file_names[i]))\n",
    "    file_new.append(SST)"
   ]
  },
  {
   "cell_type": "code",
   "execution_count": 14,
   "id": "b0cc32f4",
   "metadata": {
    "ExecuteTime": {
     "end_time": "2023-11-12T08:17:54.926885Z",
     "start_time": "2023-11-12T08:17:54.922891Z"
    }
   },
   "outputs": [
    {
     "data": {
      "text/plain": [
       "6"
      ]
     },
     "execution_count": 14,
     "metadata": {},
     "output_type": "execute_result"
    }
   ],
   "source": [
    "len(file_new)"
   ]
  },
  {
   "cell_type": "code",
   "execution_count": 15,
   "id": "8bb68c19",
   "metadata": {
    "ExecuteTime": {
     "end_time": "2023-11-12T08:19:11.514396Z",
     "start_time": "2023-11-12T08:18:55.677721Z"
    }
   },
   "outputs": [],
   "source": [
    "SST0 = file_new[0]['sst'][:].data\n",
    "SST1 = file_new[1]['sst'][:].data\n",
    "SST2 = file_new[2]['sst'][:].data\n",
    "SST3 = file_new[3]['sst'][:].data\n",
    "SST4 = file_new[4]['sst'][:].data\n",
    "SST5 = file_new[5]['sst'][:].data"
   ]
  },
  {
   "cell_type": "code",
   "execution_count": 17,
   "id": "cad52d66",
   "metadata": {
    "ExecuteTime": {
     "end_time": "2023-11-12T08:19:20.632271Z",
     "start_time": "2023-11-12T08:19:20.628277Z"
    }
   },
   "outputs": [
    {
     "name": "stdout",
     "output_type": "stream",
     "text": [
      "(24, 3600, 7200)\n"
     ]
    }
   ],
   "source": [
    "print(SST2.shape)"
   ]
  },
  {
   "cell_type": "code",
   "execution_count": 18,
   "id": "9646a361",
   "metadata": {
    "ExecuteTime": {
     "end_time": "2023-11-12T08:21:27.982960Z",
     "start_time": "2023-11-12T08:21:22.737394Z"
    }
   },
   "outputs": [],
   "source": [
    "SST_2011_2021 = np.concatenate((SST0,SST1,SST2,SST3,SST4,SST5),axis=0)"
   ]
  },
  {
   "cell_type": "code",
   "execution_count": 19,
   "id": "e4416ba0",
   "metadata": {
    "ExecuteTime": {
     "end_time": "2023-11-12T08:21:27.988951Z",
     "start_time": "2023-11-12T08:21:27.983959Z"
    },
    "scrolled": true
   },
   "outputs": [
    {
     "data": {
      "text/plain": [
       "(132, 3600, 7200)"
      ]
     },
     "execution_count": 19,
     "metadata": {},
     "output_type": "execute_result"
    }
   ],
   "source": [
    "SST_2011_2021.shape "
   ]
  },
  {
   "cell_type": "code",
   "execution_count": 31,
   "id": "036ce06a",
   "metadata": {
    "ExecuteTime": {
     "end_time": "2023-11-12T08:30:12.700013Z",
     "start_time": "2023-11-12T08:30:08.754423Z"
    }
   },
   "outputs": [],
   "source": [
    "SST_2011_2021_sheshidu = SST_2011_2021 - 273.15"
   ]
  },
  {
   "cell_type": "code",
   "execution_count": 33,
   "id": "4b677beb",
   "metadata": {
    "ExecuteTime": {
     "end_time": "2023-11-12T08:30:37.907215Z",
     "start_time": "2023-11-12T08:30:31.987823Z"
    }
   },
   "outputs": [
    {
     "data": {
      "text/plain": [
       "-1.9467773"
      ]
     },
     "execution_count": 33,
     "metadata": {},
     "output_type": "execute_result"
    }
   ],
   "source": [
    "np.nanmin(SST_2011_2021_sheshidu)"
   ]
  },
  {
   "cell_type": "markdown",
   "id": "0fe1ecc0",
   "metadata": {},
   "source": [
    "# 保存合并数据"
   ]
  },
  {
   "cell_type": "code",
   "execution_count": 20,
   "id": "2652f972",
   "metadata": {
    "ExecuteTime": {
     "end_time": "2023-11-12T08:22:53.678908Z",
     "start_time": "2023-11-12T08:22:53.674915Z"
    }
   },
   "outputs": [],
   "source": [
    "lat = file_new[0]['lat'][:].data\n",
    "lon = file_new[0]['lon'][:].data"
   ]
  },
  {
   "cell_type": "code",
   "execution_count": 25,
   "id": "5646ba68",
   "metadata": {
    "ExecuteTime": {
     "end_time": "2023-11-12T08:23:52.802871Z",
     "start_time": "2023-11-12T08:23:46.915340Z"
    }
   },
   "outputs": [
    {
     "data": {
      "text/plain": [
       "271.20322"
      ]
     },
     "execution_count": 25,
     "metadata": {},
     "output_type": "execute_result"
    }
   ],
   "source": [
    "np.nanmin(SST_2011_2021)"
   ]
  },
  {
   "cell_type": "code",
   "execution_count": 28,
   "id": "34c4dce2",
   "metadata": {
    "ExecuteTime": {
     "end_time": "2023-11-12T08:25:33.014905Z",
     "start_time": "2023-11-12T08:25:33.008914Z"
    }
   },
   "outputs": [],
   "source": [
    "start_year = 2011\n",
    "end_year =2021\n",
    "time = []\n",
    "date_range = pd.date_range(datetime(start_year,1,1),datetime(end_year,12,31),freq='1m')\n",
    "len(date_range)\n",
    "for i in range(len(date_range)):\n",
    "    time.append(i)"
   ]
  },
  {
   "cell_type": "code",
   "execution_count": 29,
   "id": "d328b96b",
   "metadata": {
    "ExecuteTime": {
     "end_time": "2023-11-12T08:25:33.202603Z",
     "start_time": "2023-11-12T08:25:33.197611Z"
    }
   },
   "outputs": [
    {
     "data": {
      "text/plain": [
       "132"
      ]
     },
     "execution_count": 29,
     "metadata": {},
     "output_type": "execute_result"
    }
   ],
   "source": [
    "len(time)"
   ]
  },
  {
   "cell_type": "code",
   "execution_count": 34,
   "id": "476d2669",
   "metadata": {
    "ExecuteTime": {
     "end_time": "2023-11-12T08:31:16.816825Z",
     "start_time": "2023-11-12T08:31:01.594449Z"
    }
   },
   "outputs": [],
   "source": [
    "#new_NC.close()\n",
    "new_NC = Dataset(\"D:/data/SST/SST_2011-2021_month_sheshidu.nc\", 'w', format='NETCDF4')\n",
    "\n",
    "new_NC.createDimension('lat', len(lat))\n",
    "new_NC.createDimension('lon', len(lon))\n",
    "new_NC.createDimension('time', len(time))\n",
    "\n",
    "\n",
    "time_var = new_NC.createVariable('time', 'f4',(\"time\"))\n",
    "time_var.units = 'months since 2011-01-15'\n",
    "time_var.long_name = 'months'\n",
    "time_var.axis = 'T' \n",
    "\n",
    "new_NC.createVariable('lat', 'f', (\"lat\"))\n",
    "new_NC.createVariable('lon', 'f', (\"lon\"))\n",
    "new_NC.createVariable('sst', 'f',(\"time\",\"lat\",\"lon\"))\n",
    "\n",
    "#向变量中填充数据\n",
    "new_NC.variables['lat'][:] = lat\n",
    "new_NC.variables['lon'][:] = lon\n",
    "new_NC.variables['time'][:] = np.array(time)\n",
    "new_NC.variables['sst'][:]=np.array(SST_2011_2021_sheshidu)\n",
    " \n",
    "#最后记得关闭文件\n",
    "new_NC.close()\n",
    "\n"
   ]
  },
  {
   "cell_type": "markdown",
   "id": "598a84b1",
   "metadata": {},
   "source": [
    "# 对数据进行线性插值"
   ]
  },
  {
   "cell_type": "code",
   "execution_count": 43,
   "id": "cb8ed48b",
   "metadata": {
    "ExecuteTime": {
     "end_time": "2023-11-12T08:40:27.979150Z",
     "start_time": "2023-11-12T08:40:27.975157Z"
    }
   },
   "outputs": [
    {
     "name": "stdout",
     "output_type": "stream",
     "text": [
      "[-89.975 -89.925 -89.875 ...  89.875  89.925  89.975]\n",
      "[-179.975 -179.925 -179.875 ...  179.875  179.925  179.975]\n"
     ]
    }
   ],
   "source": [
    "print(lat)\n",
    "print(lon)"
   ]
  },
  {
   "cell_type": "code",
   "execution_count": 38,
   "id": "a0ab2a2b",
   "metadata": {
    "ExecuteTime": {
     "end_time": "2023-11-12T08:38:33.435473Z",
     "start_time": "2023-11-12T08:38:33.408516Z"
    }
   },
   "outputs": [],
   "source": [
    "data_sst = xr.open_dataset('D:/data/SST/SST_2011-2021_month_sheshidu.nc',decode_times=False)\n",
    "\n",
    "data_ssh = nc.Dataset(r'D:/data/SSH/2019/01/dt_global_twosat_phy_l4_20190101_vDT2021.nc')"
   ]
  },
  {
   "cell_type": "code",
   "execution_count": 40,
   "id": "dba666aa",
   "metadata": {
    "ExecuteTime": {
     "end_time": "2023-11-12T08:38:48.392594Z",
     "start_time": "2023-11-12T08:38:48.388600Z"
    }
   },
   "outputs": [],
   "source": [
    "sst = data_sst['sst']#读取sssa数据，读完后也是一个DataSet"
   ]
  },
  {
   "cell_type": "code",
   "execution_count": 42,
   "id": "aacfa3ab",
   "metadata": {
    "ExecuteTime": {
     "end_time": "2023-11-12T08:39:58.555697Z",
     "start_time": "2023-11-12T08:39:58.544713Z"
    },
    "collapsed": true
   },
   "outputs": [
    {
     "name": "stdout",
     "output_type": "stream",
     "text": [
      "[-179.875 -179.625 -179.375 ...  179.375  179.625  179.875]\n",
      "[-89.875 -89.625 -89.375 -89.125 -88.875 -88.625 -88.375 -88.125 -87.875\n",
      " -87.625 -87.375 -87.125 -86.875 -86.625 -86.375 -86.125 -85.875 -85.625\n",
      " -85.375 -85.125 -84.875 -84.625 -84.375 -84.125 -83.875 -83.625 -83.375\n",
      " -83.125 -82.875 -82.625 -82.375 -82.125 -81.875 -81.625 -81.375 -81.125\n",
      " -80.875 -80.625 -80.375 -80.125 -79.875 -79.625 -79.375 -79.125 -78.875\n",
      " -78.625 -78.375 -78.125 -77.875 -77.625 -77.375 -77.125 -76.875 -76.625\n",
      " -76.375 -76.125 -75.875 -75.625 -75.375 -75.125 -74.875 -74.625 -74.375\n",
      " -74.125 -73.875 -73.625 -73.375 -73.125 -72.875 -72.625 -72.375 -72.125\n",
      " -71.875 -71.625 -71.375 -71.125 -70.875 -70.625 -70.375 -70.125 -69.875\n",
      " -69.625 -69.375 -69.125 -68.875 -68.625 -68.375 -68.125 -67.875 -67.625\n",
      " -67.375 -67.125 -66.875 -66.625 -66.375 -66.125 -65.875 -65.625 -65.375\n",
      " -65.125 -64.875 -64.625 -64.375 -64.125 -63.875 -63.625 -63.375 -63.125\n",
      " -62.875 -62.625 -62.375 -62.125 -61.875 -61.625 -61.375 -61.125 -60.875\n",
      " -60.625 -60.375 -60.125 -59.875 -59.625 -59.375 -59.125 -58.875 -58.625\n",
      " -58.375 -58.125 -57.875 -57.625 -57.375 -57.125 -56.875 -56.625 -56.375\n",
      " -56.125 -55.875 -55.625 -55.375 -55.125 -54.875 -54.625 -54.375 -54.125\n",
      " -53.875 -53.625 -53.375 -53.125 -52.875 -52.625 -52.375 -52.125 -51.875\n",
      " -51.625 -51.375 -51.125 -50.875 -50.625 -50.375 -50.125 -49.875 -49.625\n",
      " -49.375 -49.125 -48.875 -48.625 -48.375 -48.125 -47.875 -47.625 -47.375\n",
      " -47.125 -46.875 -46.625 -46.375 -46.125 -45.875 -45.625 -45.375 -45.125\n",
      " -44.875 -44.625 -44.375 -44.125 -43.875 -43.625 -43.375 -43.125 -42.875\n",
      " -42.625 -42.375 -42.125 -41.875 -41.625 -41.375 -41.125 -40.875 -40.625\n",
      " -40.375 -40.125 -39.875 -39.625 -39.375 -39.125 -38.875 -38.625 -38.375\n",
      " -38.125 -37.875 -37.625 -37.375 -37.125 -36.875 -36.625 -36.375 -36.125\n",
      " -35.875 -35.625 -35.375 -35.125 -34.875 -34.625 -34.375 -34.125 -33.875\n",
      " -33.625 -33.375 -33.125 -32.875 -32.625 -32.375 -32.125 -31.875 -31.625\n",
      " -31.375 -31.125 -30.875 -30.625 -30.375 -30.125 -29.875 -29.625 -29.375\n",
      " -29.125 -28.875 -28.625 -28.375 -28.125 -27.875 -27.625 -27.375 -27.125\n",
      " -26.875 -26.625 -26.375 -26.125 -25.875 -25.625 -25.375 -25.125 -24.875\n",
      " -24.625 -24.375 -24.125 -23.875 -23.625 -23.375 -23.125 -22.875 -22.625\n",
      " -22.375 -22.125 -21.875 -21.625 -21.375 -21.125 -20.875 -20.625 -20.375\n",
      " -20.125 -19.875 -19.625 -19.375 -19.125 -18.875 -18.625 -18.375 -18.125\n",
      " -17.875 -17.625 -17.375 -17.125 -16.875 -16.625 -16.375 -16.125 -15.875\n",
      " -15.625 -15.375 -15.125 -14.875 -14.625 -14.375 -14.125 -13.875 -13.625\n",
      " -13.375 -13.125 -12.875 -12.625 -12.375 -12.125 -11.875 -11.625 -11.375\n",
      " -11.125 -10.875 -10.625 -10.375 -10.125  -9.875  -9.625  -9.375  -9.125\n",
      "  -8.875  -8.625  -8.375  -8.125  -7.875  -7.625  -7.375  -7.125  -6.875\n",
      "  -6.625  -6.375  -6.125  -5.875  -5.625  -5.375  -5.125  -4.875  -4.625\n",
      "  -4.375  -4.125  -3.875  -3.625  -3.375  -3.125  -2.875  -2.625  -2.375\n",
      "  -2.125  -1.875  -1.625  -1.375  -1.125  -0.875  -0.625  -0.375  -0.125\n",
      "   0.125   0.375   0.625   0.875   1.125   1.375   1.625   1.875   2.125\n",
      "   2.375   2.625   2.875   3.125   3.375   3.625   3.875   4.125   4.375\n",
      "   4.625   4.875   5.125   5.375   5.625   5.875   6.125   6.375   6.625\n",
      "   6.875   7.125   7.375   7.625   7.875   8.125   8.375   8.625   8.875\n",
      "   9.125   9.375   9.625   9.875  10.125  10.375  10.625  10.875  11.125\n",
      "  11.375  11.625  11.875  12.125  12.375  12.625  12.875  13.125  13.375\n",
      "  13.625  13.875  14.125  14.375  14.625  14.875  15.125  15.375  15.625\n",
      "  15.875  16.125  16.375  16.625  16.875  17.125  17.375  17.625  17.875\n",
      "  18.125  18.375  18.625  18.875  19.125  19.375  19.625  19.875  20.125\n",
      "  20.375  20.625  20.875  21.125  21.375  21.625  21.875  22.125  22.375\n",
      "  22.625  22.875  23.125  23.375  23.625  23.875  24.125  24.375  24.625\n",
      "  24.875  25.125  25.375  25.625  25.875  26.125  26.375  26.625  26.875\n",
      "  27.125  27.375  27.625  27.875  28.125  28.375  28.625  28.875  29.125\n",
      "  29.375  29.625  29.875  30.125  30.375  30.625  30.875  31.125  31.375\n",
      "  31.625  31.875  32.125  32.375  32.625  32.875  33.125  33.375  33.625\n",
      "  33.875  34.125  34.375  34.625  34.875  35.125  35.375  35.625  35.875\n",
      "  36.125  36.375  36.625  36.875  37.125  37.375  37.625  37.875  38.125\n",
      "  38.375  38.625  38.875  39.125  39.375  39.625  39.875  40.125  40.375\n",
      "  40.625  40.875  41.125  41.375  41.625  41.875  42.125  42.375  42.625\n",
      "  42.875  43.125  43.375  43.625  43.875  44.125  44.375  44.625  44.875\n",
      "  45.125  45.375  45.625  45.875  46.125  46.375  46.625  46.875  47.125\n",
      "  47.375  47.625  47.875  48.125  48.375  48.625  48.875  49.125  49.375\n",
      "  49.625  49.875  50.125  50.375  50.625  50.875  51.125  51.375  51.625\n",
      "  51.875  52.125  52.375  52.625  52.875  53.125  53.375  53.625  53.875\n",
      "  54.125  54.375  54.625  54.875  55.125  55.375  55.625  55.875  56.125\n",
      "  56.375  56.625  56.875  57.125  57.375  57.625  57.875  58.125  58.375\n",
      "  58.625  58.875  59.125  59.375  59.625  59.875  60.125  60.375  60.625\n",
      "  60.875  61.125  61.375  61.625  61.875  62.125  62.375  62.625  62.875\n",
      "  63.125  63.375  63.625  63.875  64.125  64.375  64.625  64.875  65.125\n",
      "  65.375  65.625  65.875  66.125  66.375  66.625  66.875  67.125  67.375\n",
      "  67.625  67.875  68.125  68.375  68.625  68.875  69.125  69.375  69.625\n",
      "  69.875  70.125  70.375  70.625  70.875  71.125  71.375  71.625  71.875\n",
      "  72.125  72.375  72.625  72.875  73.125  73.375  73.625  73.875  74.125\n",
      "  74.375  74.625  74.875  75.125  75.375  75.625  75.875  76.125  76.375\n",
      "  76.625  76.875  77.125  77.375  77.625  77.875  78.125  78.375  78.625\n",
      "  78.875  79.125  79.375  79.625  79.875  80.125  80.375  80.625  80.875\n",
      "  81.125  81.375  81.625  81.875  82.125  82.375  82.625  82.875  83.125\n",
      "  83.375  83.625  83.875  84.125  84.375  84.625  84.875  85.125  85.375\n",
      "  85.625  85.875  86.125  86.375  86.625  86.875  87.125  87.375  87.625\n",
      "  87.875  88.125  88.375  88.625  88.875  89.125  89.375  89.625  89.875]\n"
     ]
    }
   ],
   "source": [
    "#以下这一步就是插值的过程\n",
    "lon_ssh = data_ssh.variables['longitude'][:].data\n",
    "print(lon_ssh)\n",
    "lat_ssh = data_ssh.variables['latitude'][:].data\n",
    "print(lat_ssh)"
   ]
  },
  {
   "cell_type": "code",
   "execution_count": 44,
   "id": "5add22dc",
   "metadata": {
    "ExecuteTime": {
     "end_time": "2023-11-12T08:42:11.441360Z",
     "start_time": "2023-11-12T08:41:11.812380Z"
    }
   },
   "outputs": [],
   "source": [
    "sst= sst.interp(lat=lat_ssh, lon=lon_ssh)"
   ]
  },
  {
   "cell_type": "code",
   "execution_count": 46,
   "id": "4c931de8",
   "metadata": {
    "ExecuteTime": {
     "end_time": "2023-11-12T08:45:23.694960Z",
     "start_time": "2023-11-12T08:45:23.690967Z"
    }
   },
   "outputs": [
    {
     "data": {
      "text/plain": [
       "1440"
      ]
     },
     "execution_count": 46,
     "metadata": {},
     "output_type": "execute_result"
    }
   ],
   "source": [
    "len(lon_ssh)"
   ]
  },
  {
   "cell_type": "markdown",
   "id": "7dbc96b5",
   "metadata": {},
   "source": [
    "# 保存插值之后的SST"
   ]
  },
  {
   "cell_type": "code",
   "execution_count": 49,
   "id": "6bf9eea7",
   "metadata": {
    "ExecuteTime": {
     "end_time": "2023-11-12T08:45:43.216427Z",
     "start_time": "2023-11-12T08:45:43.211435Z"
    }
   },
   "outputs": [
    {
     "data": {
      "text/plain": [
       "132"
      ]
     },
     "execution_count": 49,
     "metadata": {},
     "output_type": "execute_result"
    }
   ],
   "source": [
    "len(time)"
   ]
  },
  {
   "cell_type": "code",
   "execution_count": 50,
   "id": "04bed823",
   "metadata": {
    "ExecuteTime": {
     "end_time": "2023-11-12T08:46:18.957285Z",
     "start_time": "2023-11-12T08:46:18.045735Z"
    }
   },
   "outputs": [],
   "source": [
    "#new_NC.close()\n",
    "new_NC = Dataset(\"D:/data/SST/SST_2011-2021_month_sheshidu_interp.nc\", 'w', format='NETCDF4')\n",
    "\n",
    "new_NC.createDimension('lat', len(lat_ssh))\n",
    "new_NC.createDimension('lon', len(lon_ssh))\n",
    "new_NC.createDimension('time', len(time))\n",
    "\n",
    "\n",
    "time_var = new_NC.createVariable('time', 'f4',(\"time\"))\n",
    "time_var.units = 'months since 2011-01-15'\n",
    "time_var.long_name = 'months'\n",
    "time_var.axis = 'T' \n",
    "\n",
    "new_NC.createVariable('lat', 'f', (\"lat\"))\n",
    "new_NC.createVariable('lon', 'f', (\"lon\"))\n",
    "new_NC.createVariable('sst', 'f',(\"time\",\"lat\",\"lon\"))\n",
    "\n",
    "#向变量中填充数据\n",
    "new_NC.variables['lat'][:] = lat_ssh\n",
    "new_NC.variables['lon'][:] = lon_ssh\n",
    "new_NC.variables['time'][:] = np.array(time)\n",
    "new_NC.variables['sst'][:]=np.array(sst)\n",
    " \n",
    "#最后记得关闭文件\n",
    "new_NC.close()\n",
    "\n"
   ]
  },
  {
   "cell_type": "code",
   "execution_count": null,
   "id": "3a37d198",
   "metadata": {},
   "outputs": [],
   "source": []
  }
 ],
 "metadata": {
  "kernelspec": {
   "display_name": "Python [conda env:python] *",
   "language": "python",
   "name": "conda-env-python-py"
  },
  "language_info": {
   "codemirror_mode": {
    "name": "ipython",
    "version": 3
   },
   "file_extension": ".py",
   "mimetype": "text/x-python",
   "name": "python",
   "nbconvert_exporter": "python",
   "pygments_lexer": "ipython3",
   "version": "3.8.17"
  },
  "toc": {
   "base_numbering": 1,
   "nav_menu": {},
   "number_sections": true,
   "sideBar": true,
   "skip_h1_title": false,
   "title_cell": "Table of Contents",
   "title_sidebar": "Contents",
   "toc_cell": false,
   "toc_position": {},
   "toc_section_display": true,
   "toc_window_display": false
  }
 },
 "nbformat": 4,
 "nbformat_minor": 5
}
