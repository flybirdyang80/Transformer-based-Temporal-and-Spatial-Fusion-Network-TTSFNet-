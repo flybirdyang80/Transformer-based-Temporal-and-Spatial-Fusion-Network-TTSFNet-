{
 "cells": [
  {
   "cell_type": "code",
   "execution_count": 1,
   "id": "cbc5fdfb",
   "metadata": {
    "ExecuteTime": {
     "end_time": "2023-11-09T07:39:14.772348Z",
     "start_time": "2023-11-09T07:39:13.284781Z"
    }
   },
   "outputs": [],
   "source": [
    "import gzip\n",
    "import matplotlib.pyplot as plt\n",
    "%matplotlib inline\n",
    "import numpy as np\n",
    "import netCDF4 as nc\n",
    "import match\n",
    "from netCDF4 import Dataset\n",
    "import xarray as xr\n",
    "import os \n",
    "import pandas as pd  \n",
    "from datetime import datetime"
   ]
  },
  {
   "cell_type": "markdown",
   "id": "8a2239b0",
   "metadata": {},
   "source": [
    "# 生成文件目录"
   ]
  },
  {
   "cell_type": "code",
   "execution_count": 5,
   "id": "edbf42d5",
   "metadata": {
    "ExecuteTime": {
     "end_time": "2023-11-09T07:41:23.144630Z",
     "start_time": "2023-11-09T07:41:23.139638Z"
    }
   },
   "outputs": [
    {
     "data": {
      "text/plain": [
       "132"
      ]
     },
     "execution_count": 5,
     "metadata": {},
     "output_type": "execute_result"
    }
   ],
   "source": [
    "start_year = 2011\n",
    "end_year = 2021\n",
    "\n",
    "folder_path = 'D:/data/SSW/'  # 文件夹路径\n",
    "file_names = os.listdir(folder_path)  \n",
    "len(file_names)  "
   ]
  },
  {
   "cell_type": "code",
   "execution_count": 6,
   "id": "5442a4f0",
   "metadata": {
    "ExecuteTime": {
     "end_time": "2023-11-09T07:41:24.328706Z",
     "start_time": "2023-11-09T07:41:23.670775Z"
    }
   },
   "outputs": [],
   "source": [
    "file_new = [] \n",
    "for i in range(len(file_names)):\n",
    "    SSW = xr.open_dataset(folder_path+file_names[i])\n",
    "    file_new.append(SSW)"
   ]
  },
  {
   "cell_type": "code",
   "execution_count": 7,
   "id": "a15831c4",
   "metadata": {
    "ExecuteTime": {
     "end_time": "2023-11-09T07:41:24.936717Z",
     "start_time": "2023-11-09T07:41:24.931726Z"
    }
   },
   "outputs": [
    {
     "data": {
      "text/plain": [
       "132"
      ]
     },
     "execution_count": 7,
     "metadata": {},
     "output_type": "execute_result"
    }
   ],
   "source": [
    "len(file_new)"
   ]
  },
  {
   "cell_type": "code",
   "execution_count": 8,
   "id": "029e0cd0",
   "metadata": {
    "ExecuteTime": {
     "end_time": "2023-11-09T07:43:20.463254Z",
     "start_time": "2023-11-09T07:43:01.312276Z"
    }
   },
   "outputs": [],
   "source": [
    "data = xr.concat(file_new,dim='time')\n",
    "data_path = r'D:/data/SSW/2011-2021_concat.nc' \n",
    "data.to_netcdf(data_path)"
   ]
  },
  {
   "cell_type": "markdown",
   "id": "841c19b3",
   "metadata": {},
   "source": [
    "# 读取合并数据"
   ]
  },
  {
   "cell_type": "code",
   "execution_count": 9,
   "id": "4468c951",
   "metadata": {
    "ExecuteTime": {
     "end_time": "2023-11-09T07:43:30.487022Z",
     "start_time": "2023-11-09T07:43:25.411241Z"
    }
   },
   "outputs": [
    {
     "name": "stdout",
     "output_type": "stream",
     "text": [
      "dict_keys(['u', 'v', 'w', 'n', 'latitude', 'longitude', 'u_anom', 'v_anom', 'w_anom'])\n",
      "u (132, 720, 1440)\n",
      "v (132, 720, 1440)\n",
      "w (132, 720, 1440)\n",
      "n (132, 720, 1440)\n",
      "latitude (720,)\n",
      "longitude (1440,)\n",
      "u_anom (132, 720, 1440)\n",
      "v_anom (132, 720, 1440)\n",
      "w_anom (132, 720, 1440)\n"
     ]
    }
   ],
   "source": [
    "nc = Dataset(data_path)\n",
    "print(nc.variables.keys())\n",
    "\n",
    "for var in nc.variables.keys():\n",
    "    data = nc.variables[var][:].data\n",
    "    print(var,data.shape)"
   ]
  },
  {
   "cell_type": "code",
   "execution_count": 10,
   "id": "f44ab5dc",
   "metadata": {
    "ExecuteTime": {
     "end_time": "2023-11-09T07:47:02.170674Z",
     "start_time": "2023-11-09T07:47:01.469805Z"
    }
   },
   "outputs": [
    {
     "data": {
      "text/plain": [
       "(132, 720, 1440)"
      ]
     },
     "execution_count": 10,
     "metadata": {},
     "output_type": "execute_result"
    }
   ],
   "source": [
    "nc.variables['u'][:].mask.shape "
   ]
  },
  {
   "cell_type": "markdown",
   "id": "af07dc89",
   "metadata": {},
   "source": [
    "# 记录数据"
   ]
  },
  {
   "cell_type": "code",
   "execution_count": 11,
   "id": "3c67fa6f",
   "metadata": {
    "ExecuteTime": {
     "end_time": "2023-11-09T07:47:45.273133Z",
     "start_time": "2023-11-09T07:47:45.269140Z"
    }
   },
   "outputs": [],
   "source": [
    "lat = []\n",
    "lon = []\n",
    "u = []\n",
    "v = []\n",
    "time = []"
   ]
  },
  {
   "cell_type": "code",
   "execution_count": 12,
   "id": "debcc774",
   "metadata": {
    "ExecuteTime": {
     "end_time": "2023-11-09T07:48:35.229567Z",
     "start_time": "2023-11-09T07:48:33.974590Z"
    }
   },
   "outputs": [],
   "source": [
    "u = nc.variables['u'][:].data\n",
    "v = nc.variables['v'][:].data"
   ]
  },
  {
   "cell_type": "markdown",
   "id": "c4ad8238",
   "metadata": {},
   "source": [
    "## 获取 lat lon time "
   ]
  },
  {
   "cell_type": "code",
   "execution_count": 14,
   "id": "a67d97a1",
   "metadata": {
    "ExecuteTime": {
     "end_time": "2023-11-09T07:48:48.486192Z",
     "start_time": "2023-11-09T07:48:48.478205Z"
    }
   },
   "outputs": [],
   "source": [
    "temp = Dataset(folder_path + file_names[0])\n",
    "lat.append(temp.variables['latitude'][:].data)\n",
    "lon.append(temp.variables['longitude'][:].data)"
   ]
  },
  {
   "cell_type": "code",
   "execution_count": 15,
   "id": "d3df0640",
   "metadata": {
    "ExecuteTime": {
     "end_time": "2023-11-09T07:48:50.504937Z",
     "start_time": "2023-11-09T07:48:50.498947Z"
    }
   },
   "outputs": [],
   "source": [
    "time = []\n",
    "date_range = pd.date_range(datetime(start_year,1,1),datetime(end_year+1,1,1),freq='1M')\n",
    "len(date_range)\n",
    "for i in range(len(date_range)):\n",
    "    time.append(i)"
   ]
  },
  {
   "cell_type": "code",
   "execution_count": 16,
   "id": "e0745aee",
   "metadata": {
    "ExecuteTime": {
     "end_time": "2023-11-09T07:48:50.685646Z",
     "start_time": "2023-11-09T07:48:50.681653Z"
    }
   },
   "outputs": [
    {
     "data": {
      "text/plain": [
       "132"
      ]
     },
     "execution_count": 16,
     "metadata": {},
     "output_type": "execute_result"
    }
   ],
   "source": [
    "len(time)"
   ]
  },
  {
   "cell_type": "markdown",
   "id": "949d8994",
   "metadata": {},
   "source": [
    "# 保存数据"
   ]
  },
  {
   "cell_type": "code",
   "execution_count": null,
   "id": "dbff365d",
   "metadata": {
    "ExecuteTime": {
     "end_time": "2023-11-09T07:48:53.947387Z",
     "start_time": "2023-11-09T07:48:53.947387Z"
    }
   },
   "outputs": [],
   "source": [
    "time[0]"
   ]
  },
  {
   "cell_type": "code",
   "execution_count": 18,
   "id": "b22e59bc",
   "metadata": {
    "ExecuteTime": {
     "end_time": "2023-11-09T07:51:21.997793Z",
     "start_time": "2023-11-09T07:51:20.797726Z"
    }
   },
   "outputs": [],
   "source": [
    "#new_NC.close()\n",
    "new_NC = Dataset(\"D:/data/SSW/2011-2021_SSW_correct.nc\", 'w', format='NETCDF4')\n",
    "\n",
    "new_NC.createDimension('time', len(time))\n",
    "new_NC.createDimension('lat', len(lat[0]))\n",
    "new_NC.createDimension('lon', len(lon[0]))\n",
    "\n",
    "time_var = new_NC.createVariable('time', 'f4',(\"time\"))\n",
    "time_var.units = 'months since 2011-01-15'\n",
    "time_var.long_name = 'Months in Monthly Means'\n",
    "time_var.axis = 'T' \n",
    "\n",
    "new_NC.createVariable('lat', 'f', (\"lat\"))\n",
    "new_NC.createVariable('lon', 'f', (\"lon\"))\n",
    "\n",
    "new_NC.createVariable('u', 'f', (\"time\",\"lat\",\"lon\"))\n",
    "new_NC.createVariable('v', 'f', (\"time\",\"lat\",\"lon\"))\n",
    "\n",
    "\n",
    "#向变量中填充数据\n",
    "new_NC.variables['lat'][:] = lat[0]\n",
    "new_NC.variables['lon'][:] = lon[0]\n",
    "\n",
    "new_NC.variables['time'][:] = np.array(time)\n",
    "\n",
    "new_NC.variables['u'][:]=np.array(u)\n",
    "new_NC.variables['v'][:]=np.array(v)\n",
    "\n",
    "#最后记得关闭文件\n",
    "new_NC.close()\n",
    "\n"
   ]
  },
  {
   "cell_type": "code",
   "execution_count": null,
   "id": "11c113c6",
   "metadata": {},
   "outputs": [],
   "source": []
  }
 ],
 "metadata": {
  "kernelspec": {
   "display_name": "Python [conda env:python] *",
   "language": "python",
   "name": "conda-env-python-py"
  },
  "language_info": {
   "codemirror_mode": {
    "name": "ipython",
    "version": 3
   },
   "file_extension": ".py",
   "mimetype": "text/x-python",
   "name": "python",
   "nbconvert_exporter": "python",
   "pygments_lexer": "ipython3",
   "version": "3.8.17"
  },
  "toc": {
   "base_numbering": 1,
   "nav_menu": {},
   "number_sections": true,
   "sideBar": true,
   "skip_h1_title": false,
   "title_cell": "Table of Contents",
   "title_sidebar": "Contents",
   "toc_cell": false,
   "toc_position": {},
   "toc_section_display": true,
   "toc_window_display": false
  }
 },
 "nbformat": 4,
 "nbformat_minor": 5
}
