{
 "cells": [
  {
   "cell_type": "code",
   "execution_count": 13,
   "id": "cbc5fdfb",
   "metadata": {
    "ExecuteTime": {
     "end_time": "2023-11-09T02:34:31.294708Z",
     "start_time": "2023-11-09T02:34:24.924000Z"
    }
   },
   "outputs": [],
   "source": [
    "import gzip\n",
    "import matplotlib.pyplot as plt\n",
    "%matplotlib inline\n",
    "import numpy as np\n",
    "import netCDF4 as nc\n",
    "import match\n",
    "from netCDF4 import Dataset\n",
    "import xarray as xr\n",
    "import os \n",
    "import pandas as pd  \n",
    "from datetime import datetime"
   ]
  },
  {
   "cell_type": "markdown",
   "id": "8a2239b0",
   "metadata": {},
   "source": [
    "# 生成文件目录"
   ]
  },
  {
   "cell_type": "code",
   "execution_count": 3,
   "id": "edbf42d5",
   "metadata": {
    "ExecuteTime": {
     "end_time": "2023-11-09T02:24:29.308083Z",
     "start_time": "2023-11-09T02:24:29.301094Z"
    }
   },
   "outputs": [
    {
     "data": {
      "text/plain": [
       "132"
      ]
     },
     "execution_count": 3,
     "metadata": {},
     "output_type": "execute_result"
    }
   ],
   "source": [
    "start_year = 2011\n",
    "end_year = 2021\n",
    "\n",
    "folder_path = 'D:/data/3DTS/2011-2021/'  # 文件夹路径\n",
    "file_names = os.listdir(folder_path)  \n",
    "len(file_names)  "
   ]
  },
  {
   "cell_type": "code",
   "execution_count": 14,
   "id": "5442a4f0",
   "metadata": {
    "ExecuteTime": {
     "end_time": "2023-11-09T02:34:32.258151Z",
     "start_time": "2023-11-09T02:34:31.295706Z"
    }
   },
   "outputs": [],
   "source": [
    "file_new = [] \n",
    "for i in range(len(file_names)):\n",
    "    three_dt = xr.open_dataset(folder_path+file_names[i])\n",
    "    file_new.append(three_dt)"
   ]
  },
  {
   "cell_type": "code",
   "execution_count": 15,
   "id": "a15831c4",
   "metadata": {
    "ExecuteTime": {
     "end_time": "2023-11-09T02:34:42.157160Z",
     "start_time": "2023-11-09T02:34:42.153167Z"
    }
   },
   "outputs": [
    {
     "data": {
      "text/plain": [
       "132"
      ]
     },
     "execution_count": 15,
     "metadata": {},
     "output_type": "execute_result"
    }
   ],
   "source": [
    "len(file_new)"
   ]
  },
  {
   "cell_type": "code",
   "execution_count": 16,
   "id": "029e0cd0",
   "metadata": {
    "ExecuteTime": {
     "end_time": "2023-11-09T03:34:43.668237Z",
     "start_time": "2023-11-09T02:36:20.192900Z"
    }
   },
   "outputs": [],
   "source": [
    "data = xr.concat(file_new,dim='time')\n",
    "data_path = r'D:/data/3DTS/2011-2021_concat.nc' \n",
    "data.to_netcdf(data_path)"
   ]
  },
  {
   "cell_type": "markdown",
   "id": "841c19b3",
   "metadata": {},
   "source": [
    "# 读取合并数据"
   ]
  },
  {
   "cell_type": "code",
   "execution_count": 17,
   "id": "4468c951",
   "metadata": {
    "ExecuteTime": {
     "end_time": "2023-11-09T04:37:26.056915Z",
     "start_time": "2023-11-09T04:26:53.144193Z"
    }
   },
   "outputs": [
    {
     "name": "stdout",
     "output_type": "stream",
     "text": [
      "dict_keys(['time', 'depth', 'latitude', 'longitude', 'so', 'to', 'ugo', 'vgo', 'zo', 'mlotst'])\n",
      "time (132,)\n",
      "depth (50,)\n",
      "latitude (689,)\n",
      "longitude (1440,)\n",
      "so (132, 50, 689, 1440)\n",
      "to (132, 50, 689, 1440)\n",
      "ugo (132, 50, 689, 1440)\n",
      "vgo (132, 50, 689, 1440)\n",
      "zo (132, 50, 689, 1440)\n",
      "mlotst (132, 689, 1440)\n"
     ]
    }
   ],
   "source": [
    "nc = Dataset(data_path)\n",
    "print(nc.variables.keys())\n",
    "\n",
    "for var in nc.variables.keys():\n",
    "    data = nc.variables[var][:].data\n",
    "    print(var,data.shape)"
   ]
  },
  {
   "cell_type": "code",
   "execution_count": 19,
   "id": "f44ab5dc",
   "metadata": {
    "ExecuteTime": {
     "end_time": "2023-11-09T04:45:24.205827Z",
     "start_time": "2023-11-09T04:43:00.752689Z"
    }
   },
   "outputs": [
    {
     "data": {
      "text/plain": [
       "(132, 50, 689, 1440)"
      ]
     },
     "execution_count": 19,
     "metadata": {},
     "output_type": "execute_result"
    }
   ],
   "source": [
    "nc.variables['to'][:].mask.shape "
   ]
  },
  {
   "cell_type": "markdown",
   "id": "af07dc89",
   "metadata": {},
   "source": [
    "# 记录数据"
   ]
  },
  {
   "cell_type": "code",
   "execution_count": 23,
   "id": "3c67fa6f",
   "metadata": {
    "ExecuteTime": {
     "end_time": "2023-11-09T05:01:41.205799Z",
     "start_time": "2023-11-09T05:01:33.214651Z"
    }
   },
   "outputs": [],
   "source": [
    "lat = []\n",
    "lon = []\n",
    "to = []\n",
    "so = []\n",
    "time = []\n",
    "depth = [] "
   ]
  },
  {
   "cell_type": "code",
   "execution_count": 24,
   "id": "debcc774",
   "metadata": {
    "ExecuteTime": {
     "end_time": "2023-11-09T05:11:08.436341Z",
     "start_time": "2023-11-09T05:01:54.844854Z"
    }
   },
   "outputs": [],
   "source": [
    "to = nc.variables['to'][:].data\n",
    "so = nc.variables['so'][:].data\n",
    "\n",
    "to_mask = nc.variables['to'][:].mask\n",
    "so_mask = nc.variables['so'][:].mask\n",
    "\n",
    "depth = nc.variables['depth'][:].data"
   ]
  },
  {
   "cell_type": "code",
   "execution_count": 38,
   "id": "f735811f",
   "metadata": {
    "ExecuteTime": {
     "end_time": "2023-11-09T07:08:44.471732Z",
     "start_time": "2023-11-09T07:08:20.374616Z"
    }
   },
   "outputs": [],
   "source": [
    "to[to == 32767] = np.nan\n",
    "so[so == 32767] = np.nan"
   ]
  },
  {
   "cell_type": "code",
   "execution_count": null,
   "id": "9f78a195",
   "metadata": {},
   "outputs": [],
   "source": []
  },
  {
   "cell_type": "markdown",
   "id": "c4ad8238",
   "metadata": {},
   "source": [
    "## 获取 lat lon time "
   ]
  },
  {
   "cell_type": "code",
   "execution_count": 25,
   "id": "a67d97a1",
   "metadata": {
    "ExecuteTime": {
     "end_time": "2023-11-09T06:34:35.874142Z",
     "start_time": "2023-11-09T06:34:35.867153Z"
    }
   },
   "outputs": [],
   "source": [
    "temp = Dataset(folder_path + file_names[0])\n",
    "lat.append(temp.variables['latitude'][:].data)\n",
    "lon.append(temp.variables['longitude'][:].data)"
   ]
  },
  {
   "cell_type": "code",
   "execution_count": 26,
   "id": "d3df0640",
   "metadata": {
    "ExecuteTime": {
     "end_time": "2023-11-09T06:34:37.474590Z",
     "start_time": "2023-11-09T06:34:37.468600Z"
    }
   },
   "outputs": [],
   "source": [
    "time = []\n",
    "date_range = pd.date_range(datetime(start_year,1,1),datetime(end_year+1,1,1),freq='1M')\n",
    "len(date_range)\n",
    "for i in range(len(date_range)):\n",
    "    time.append(i)"
   ]
  },
  {
   "cell_type": "code",
   "execution_count": 27,
   "id": "e0745aee",
   "metadata": {
    "ExecuteTime": {
     "end_time": "2023-11-09T06:34:37.936391Z",
     "start_time": "2023-11-09T06:34:37.932397Z"
    }
   },
   "outputs": [
    {
     "data": {
      "text/plain": [
       "132"
      ]
     },
     "execution_count": 27,
     "metadata": {},
     "output_type": "execute_result"
    }
   ],
   "source": [
    "len(time)"
   ]
  },
  {
   "cell_type": "markdown",
   "id": "949d8994",
   "metadata": {},
   "source": [
    "# 保存数据"
   ]
  },
  {
   "cell_type": "code",
   "execution_count": 29,
   "id": "95003206",
   "metadata": {
    "ExecuteTime": {
     "end_time": "2023-11-09T06:45:24.969725Z",
     "start_time": "2023-11-09T06:45:24.964733Z"
    }
   },
   "outputs": [
    {
     "data": {
      "text/plain": [
       "50"
      ]
     },
     "execution_count": 29,
     "metadata": {},
     "output_type": "execute_result"
    }
   ],
   "source": [
    "len(depth)"
   ]
  },
  {
   "cell_type": "code",
   "execution_count": 34,
   "id": "dbff365d",
   "metadata": {
    "ExecuteTime": {
     "end_time": "2023-11-09T06:50:52.108423Z",
     "start_time": "2023-11-09T06:50:52.103432Z"
    }
   },
   "outputs": [
    {
     "data": {
      "text/plain": [
       "0"
      ]
     },
     "execution_count": 34,
     "metadata": {},
     "output_type": "execute_result"
    }
   ],
   "source": [
    "time[0]"
   ]
  },
  {
   "cell_type": "code",
   "execution_count": 39,
   "id": "b22e59bc",
   "metadata": {
    "ExecuteTime": {
     "end_time": "2023-11-09T07:12:49.884905Z",
     "start_time": "2023-11-09T07:08:57.483739Z"
    }
   },
   "outputs": [],
   "source": [
    "# 只保存风速和风速异常\n",
    "#创建新文件\n",
    "#new_NC.close()\n",
    "new_NC = Dataset(\"D:/data/3DTS/2011-2021_3dt_correct.nc\", 'w', format='NETCDF4')\n",
    "\n",
    "new_NC.createDimension('time', len(time))\n",
    "new_NC.createDimension('depth', len(depth))\n",
    "new_NC.createDimension('lat', len(lat[0]))\n",
    "new_NC.createDimension('lon', len(lon[0]))\n",
    "\n",
    "#定义变量，这里需要规定变量的类型，以及限制它的维度\n",
    "#可以看到，四个与数据相关的变量，其由另外三个基本维度约束\n",
    "\n",
    "time_var = new_NC.createVariable('time', 'f4',(\"time\"))\n",
    "time_var.units = 'months since 2011-01-15'\n",
    "time_var.long_name = 'Months in Monthly Means'\n",
    "time_var.axis = 'T' \n",
    "\n",
    "\n",
    "new_NC.createVariable('lat', 'f', (\"lat\"))\n",
    "new_NC.createVariable('lon', 'f', (\"lon\"))\n",
    "new_NC.createVariable('depth', 'f',(\"depth\"))\n",
    "\n",
    "new_NC.createVariable('to', 'f', (\"time\",\"depth\",\"lat\",\"lon\"))\n",
    "new_NC.createVariable('so', 'f', (\"time\",\"depth\",\"lat\",\"lon\"))\n",
    "new_NC.createVariable('to_mask', 'f', (\"time\",\"depth\",\"lat\",\"lon\"))\n",
    "new_NC.createVariable('so_mask', 'f', (\"time\",\"depth\",\"lat\",\"lon\"))\n",
    "\n",
    "\n",
    "\n",
    "#向变量中填充数据\n",
    "new_NC.variables['lat'][:] = lat[0]\n",
    "new_NC.variables['lon'][:] = lon[0]\n",
    "new_NC.variables['depth'][:] = np.array(depth)\n",
    "new_NC.variables['time'][:] = np.array(time)\n",
    "\n",
    "new_NC.variables['to'][:]=np.array(to)\n",
    "new_NC.variables['to_mask'][:]=np.array(to_mask)\n",
    "new_NC.variables['so'][:]=np.array(so)\n",
    "new_NC.variables['so_mask'][:]=np.array(so_mask)\n",
    "\n",
    "\n",
    "#最后记得关闭文件\n",
    "new_NC.close()\n",
    "\n"
   ]
  },
  {
   "cell_type": "code",
   "execution_count": null,
   "id": "11c113c6",
   "metadata": {},
   "outputs": [],
   "source": []
  }
 ],
 "metadata": {
  "kernelspec": {
   "display_name": "Python [conda env:python] *",
   "language": "python",
   "name": "conda-env-python-py"
  },
  "language_info": {
   "codemirror_mode": {
    "name": "ipython",
    "version": 3
   },
   "file_extension": ".py",
   "mimetype": "text/x-python",
   "name": "python",
   "nbconvert_exporter": "python",
   "pygments_lexer": "ipython3",
   "version": "3.8.17"
  },
  "toc": {
   "base_numbering": 1,
   "nav_menu": {},
   "number_sections": true,
   "sideBar": true,
   "skip_h1_title": false,
   "title_cell": "Table of Contents",
   "title_sidebar": "Contents",
   "toc_cell": false,
   "toc_position": {},
   "toc_section_display": true,
   "toc_window_display": false
  }
 },
 "nbformat": 4,
 "nbformat_minor": 5
}
