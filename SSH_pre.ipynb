{
 "cells": [
  {
   "cell_type": "code",
   "execution_count": 1,
   "id": "53f92b76",
   "metadata": {
    "ExecuteTime": {
     "end_time": "2023-11-09T11:23:10.061196Z",
     "start_time": "2023-11-09T11:23:08.560614Z"
    }
   },
   "outputs": [],
   "source": [
    "import gzip\n",
    "import matplotlib.pyplot as plt\n",
    "%matplotlib inline\n",
    "import numpy as np\n",
    "import netCDF4 as nc\n",
    "import match\n",
    "from netCDF4 import Dataset\n",
    "import xarray as xr\n",
    "import os \n",
    "import pandas as pd  \n",
    "from datetime import datetime"
   ]
  },
  {
   "cell_type": "markdown",
   "id": "07e9ece3",
   "metadata": {},
   "source": [
    "# 生成文件目录"
   ]
  },
  {
   "cell_type": "code",
   "execution_count": 3,
   "id": "d8f96124",
   "metadata": {
    "ExecuteTime": {
     "end_time": "2023-11-09T11:27:23.915332Z",
     "start_time": "2023-11-09T11:27:23.908343Z"
    }
   },
   "outputs": [
    {
     "data": {
      "text/plain": [
       "2192"
      ]
     },
     "execution_count": 3,
     "metadata": {},
     "output_type": "execute_result"
    }
   ],
   "source": [
    "start_year = 2016\n",
    "end_year = 2021\n",
    "\n",
    "folder_path = 'D:/data/SSH/2016-2021/'  # 文件夹路径\n",
    "file_names = os.listdir(folder_path)  \n",
    "len(file_names)  "
   ]
  },
  {
   "cell_type": "code",
   "execution_count": 4,
   "id": "b9235449",
   "metadata": {
    "ExecuteTime": {
     "end_time": "2023-11-09T11:27:27.126162Z",
     "start_time": "2023-11-09T11:27:27.122168Z"
    }
   },
   "outputs": [
    {
     "data": {
      "text/plain": [
       "('dt_global_twosat_phy_l4_20160101_vDT2021.nc',\n",
       " 'dt_global_twosat_phy_l4_20211231_vDT2021.nc')"
      ]
     },
     "execution_count": 4,
     "metadata": {},
     "output_type": "execute_result"
    }
   ],
   "source": [
    "file_names[0],file_names[-1]"
   ]
  },
  {
   "cell_type": "code",
   "execution_count": 5,
   "id": "78cecbac",
   "metadata": {
    "ExecuteTime": {
     "end_time": "2023-11-09T11:44:19.305137Z",
     "start_time": "2023-11-09T11:27:31.228557Z"
    }
   },
   "outputs": [],
   "source": [
    "# 打开所有nc文件\n",
    "datasets = [xr.open_dataset(folder_path + file_name) for file_name in file_names]\n",
    "# 合并多个数据集\n",
    "merged_dataset = xr.concat(datasets, dim='time')  # 'time'是合并的维度"
   ]
  },
  {
   "cell_type": "code",
   "execution_count": 6,
   "id": "bfe0b9c4",
   "metadata": {
    "ExecuteTime": {
     "end_time": "2023-11-09T12:36:03.399694Z",
     "start_time": "2023-11-09T12:12:14.204567Z"
    }
   },
   "outputs": [],
   "source": [
    "merged_dataset.to_netcdf('D:/data/SSH/SSH_2016-2021_concat.nc')"
   ]
  },
  {
   "cell_type": "markdown",
   "id": "e0658402",
   "metadata": {},
   "source": [
    "# 读取合并数据"
   ]
  },
  {
   "cell_type": "code",
   "execution_count": 7,
   "id": "d36a3467",
   "metadata": {
    "ExecuteTime": {
     "end_time": "2023-11-09T13:04:57.521150Z",
     "start_time": "2023-11-09T12:56:10.493508Z"
    }
   },
   "outputs": [
    {
     "name": "stdout",
     "output_type": "stream",
     "text": [
      "dict_keys(['crs', 'time', 'latitude', 'lat_bnds', 'longitude', 'lon_bnds', 'nv', 'sla', 'err_sla', 'ugosa', 'err_ugosa', 'vgosa', 'err_vgosa', 'adt', 'ugos', 'vgos', 'tpa_correction', 'flag_ice'])\n",
      "crs (2192,)\n",
      "time (2192,)\n",
      "latitude (720,)\n",
      "lat_bnds (2192, 720, 2)\n",
      "longitude (1440,)\n",
      "lon_bnds (2192, 1440, 2)\n",
      "nv (2,)\n",
      "sla (2192, 720, 1440)\n",
      "err_sla (2192, 720, 1440)\n",
      "ugosa (2192, 720, 1440)\n",
      "err_ugosa (2192, 720, 1440)\n",
      "vgosa (2192, 720, 1440)\n",
      "err_vgosa (2192, 720, 1440)\n",
      "adt (2192, 720, 1440)\n",
      "ugos (2192, 720, 1440)\n",
      "vgos (2192, 720, 1440)\n",
      "tpa_correction (2192,)\n",
      "flag_ice (2192, 720, 1440)\n"
     ]
    }
   ],
   "source": [
    "nc = Dataset('D:/data/SSH/SSH_2016-2021_concat.nc')\n",
    "print(nc.variables.keys())\n",
    "\n",
    "for var in nc.variables.keys():\n",
    "    data = nc.variables[var][:].data\n",
    "    print(var,data.shape)"
   ]
  },
  {
   "cell_type": "code",
   "execution_count": null,
   "id": "2a7b2c54",
   "metadata": {},
   "outputs": [],
   "source": []
  },
  {
   "cell_type": "code",
   "execution_count": 8,
   "id": "2df26a74",
   "metadata": {
    "ExecuteTime": {
     "end_time": "2023-11-09T13:19:14.156429Z",
     "start_time": "2023-11-09T13:15:49.687505Z"
    }
   },
   "outputs": [],
   "source": [
    "adt = nc.variables['adt'][:].data\n",
    "sla = nc.variables['sla'][:].data\n",
    "adt_mask =  nc.variables['adt'][:].mask\n",
    "sla_mask =  nc.variables['sla'][:].mask\n",
    "\n",
    "crs   =  nc.variables['crs'][:].data  #this is a container variable that describes the gird_mapping used by the data in this file.This variable does not contain any data;only information about the geographic coordinate system\n",
    "\n",
    "lat   =  nc.variables['latitude'][:].data\n",
    "lon   =  nc.variables['longitude'][:].data"
   ]
  },
  {
   "cell_type": "code",
   "execution_count": 9,
   "id": "cc5667f1",
   "metadata": {
    "ExecuteTime": {
     "end_time": "2023-11-09T13:19:22.338261Z",
     "start_time": "2023-11-09T13:19:14.157428Z"
    }
   },
   "outputs": [],
   "source": [
    "adt[adt == -2147483647] = np.nan\n",
    "sla[sla == -2147483647] = np.nan"
   ]
  },
  {
   "cell_type": "code",
   "execution_count": 10,
   "id": "b27566d6",
   "metadata": {
    "ExecuteTime": {
     "end_time": "2023-11-09T13:19:22.344252Z",
     "start_time": "2023-11-09T13:19:22.339260Z"
    }
   },
   "outputs": [],
   "source": [
    "start_year = 2016\n",
    "end_year = 2021\n",
    "time = []\n",
    "date_range = pd.date_range(datetime(start_year,1,1),datetime(end_year,12,31),freq='1d')\n",
    "len(date_range)\n",
    "for i in range(len(date_range)):\n",
    "    time.append(i)"
   ]
  },
  {
   "cell_type": "code",
   "execution_count": 11,
   "id": "2f8bc04b",
   "metadata": {
    "ExecuteTime": {
     "end_time": "2023-11-09T13:19:22.350242Z",
     "start_time": "2023-11-09T13:19:22.346249Z"
    }
   },
   "outputs": [
    {
     "data": {
      "text/plain": [
       "2192"
      ]
     },
     "execution_count": 11,
     "metadata": {},
     "output_type": "execute_result"
    }
   ],
   "source": [
    "len(time)"
   ]
  },
  {
   "cell_type": "markdown",
   "id": "c3c06a1d",
   "metadata": {},
   "source": [
    "# 保存数据"
   ]
  },
  {
   "cell_type": "code",
   "execution_count": 12,
   "id": "436b707f",
   "metadata": {
    "ExecuteTime": {
     "end_time": "2023-11-09T13:19:22.355234Z",
     "start_time": "2023-11-09T13:19:22.351241Z"
    }
   },
   "outputs": [
    {
     "data": {
      "text/plain": [
       "-2147483647"
      ]
     },
     "execution_count": 12,
     "metadata": {},
     "output_type": "execute_result"
    }
   ],
   "source": [
    "crs[0]"
   ]
  },
  {
   "cell_type": "code",
   "execution_count": 15,
   "id": "938e836c",
   "metadata": {
    "ExecuteTime": {
     "end_time": "2023-11-09T10:57:32.990946Z",
     "start_time": "2023-11-09T10:57:32.985954Z"
    }
   },
   "outputs": [],
   "source": [
    "new_NC.close()"
   ]
  },
  {
   "cell_type": "code",
   "execution_count": 14,
   "id": "3c2110ad",
   "metadata": {
    "ExecuteTime": {
     "end_time": "2023-11-09T13:31:05.723201Z",
     "start_time": "2023-11-09T13:30:03.809053Z"
    }
   },
   "outputs": [],
   "source": [
    "#new_NC.close()\n",
    "new_NC = Dataset(\"D:/data/SSH/SSH_2016-2021_day.nc\", 'w', format='NETCDF4')\n",
    "\n",
    "new_NC.createDimension('lat', len(lat))\n",
    "new_NC.createDimension('lon', len(lon))\n",
    "new_NC.createDimension('time', len(time))\n",
    "new_NC.createDimension('crs', 1)\n",
    "\n",
    "#定义变量，这里需要规定变量的类型，以及限制它的维度\n",
    "#可以看到，四个与数据相关的变量，其由另外三个基本维度约束\n",
    "\n",
    "time_var = new_NC.createVariable('time', 'f4',(\"time\"))\n",
    "time_var.units = 'days since 2016-01-01'\n",
    "time_var.long_name = 'days'\n",
    "time_var.axis = 'T' \n",
    "\n",
    "new_NC.createVariable('lat', 'f', (\"lat\"))\n",
    "new_NC.createVariable('lon', 'f', (\"lon\"))\n",
    "\n",
    "new_NC.createVariable('ssh', 'f',(\"time\",\"lat\",\"lon\"))\n",
    "new_NC.createVariable('sla', 'f',(\"time\",\"lat\",\"lon\"))\n",
    "new_NC.createVariable('ssh_mask', 'f',(\"time\",\"lat\",\"lon\"))\n",
    "new_NC.createVariable('sla_mask', 'f',(\"time\",\"lat\",\"lon\"))\n",
    "\n",
    "new_NC.createVariable('crs', 'f',(\"crs\"))\n",
    "\n",
    "\n",
    "#向变量中填充数据\n",
    "new_NC.variables['lat'][:] = lat\n",
    "new_NC.variables['lon'][:] = lon\n",
    "new_NC.variables['time'][:] = np.array(time)\n",
    "\n",
    "new_NC.variables['ssh'][:]=np.array(adt)\n",
    "new_NC.variables['sla'][:]=np.array(sla)\n",
    "new_NC.variables['ssh_mask'][:]=np.array(adt_mask)\n",
    "new_NC.variables['sla_mask'][:]=np.array(sla_mask)\n",
    "\n",
    "new_NC.variables['crs'][:]=np.array(crs[0])\n",
    "\n",
    "#最后记得关闭文件\n",
    "new_NC.close()\n",
    "\n"
   ]
  },
  {
   "cell_type": "markdown",
   "id": "6a285d07",
   "metadata": {},
   "source": [
    "# 按月求平均值"
   ]
  },
  {
   "cell_type": "code",
   "execution_count": null,
   "id": "3ac19a55",
   "metadata": {},
   "outputs": [],
   "source": []
  },
  {
   "cell_type": "code",
   "execution_count": 19,
   "id": "bb3b2dab",
   "metadata": {
    "ExecuteTime": {
     "end_time": "2023-11-09T11:09:46.165843Z",
     "start_time": "2023-11-09T11:09:46.160851Z"
    }
   },
   "outputs": [
    {
     "data": {
      "text/plain": [
       "(1826, 720, 1440)"
      ]
     },
     "execution_count": 19,
     "metadata": {},
     "output_type": "execute_result"
    }
   ],
   "source": [
    "#adt.shape"
   ]
  },
  {
   "cell_type": "code",
   "execution_count": 15,
   "id": "d9fe78b7",
   "metadata": {
    "ExecuteTime": {
     "end_time": "2023-11-10T02:36:18.453763Z",
     "start_time": "2023-11-10T02:35:43.722704Z"
    }
   },
   "outputs": [
    {
     "name": "stderr",
     "output_type": "stream",
     "text": [
      "C:\\Users\\Administrator\\AppData\\Local\\Temp\\ipykernel_69608\\2539997583.py:25: RuntimeWarning: Mean of empty slice\n",
      "  monthly_average_adt = np.nanmean(monthly_data_adt, axis=0)\n",
      "C:\\Users\\Administrator\\AppData\\Local\\Temp\\ipykernel_69608\\2539997583.py:26: RuntimeWarning: Mean of empty slice\n",
      "  monthly_average_sla = np.nanmean(monthly_data_sla, axis=0)\n"
     ]
    }
   ],
   "source": [
    "import numpy as np\n",
    "import calendar\n",
    "\n",
    "# 假设data是您的数据，形状为 (4017, 720, 1440)\n",
    "# 获取数据的形状\n",
    "#1826       720        1440\n",
    "num_days, num_rows, num_cols = adt.shape\n",
    "\n",
    "# 创建一个数组来存储月平均值\n",
    "monthly_averages_adt = []\n",
    "monthly_averages_sla = []\n",
    "start_day = 0 \n",
    "\n",
    "for year in range(2016, 2022):  # 从2016年到2021年\n",
    "    for month in range(1, 13):  # 1月到12月\n",
    "        # 获取当前月份的天数，考虑年份和闰年\n",
    "        days_in_month = calendar.monthrange(year, month)[1]\n",
    "        # 在数据中选择当前月份的数据\n",
    "        end_day = start_day + days_in_month\n",
    "#         print(year,'年',month,'月')\n",
    "#         print(start_day,end_day)\n",
    "        monthly_data_adt = adt[start_day:end_day]\n",
    "        monthly_data_sla = sla[start_day:end_day]\n",
    "        # 计算每个月的平均值，并添加到结果数组中\n",
    "        monthly_average_adt = np.nanmean(monthly_data_adt, axis=0)\n",
    "        monthly_average_sla = np.nanmean(monthly_data_sla, axis=0)\n",
    "        \n",
    "        monthly_averages_adt.append(monthly_average_adt)\n",
    "        monthly_averages_sla.append(monthly_average_sla)\n",
    "        \n",
    "        start_day = end_day"
   ]
  },
  {
   "cell_type": "code",
   "execution_count": 16,
   "id": "a6d56919",
   "metadata": {
    "ExecuteTime": {
     "end_time": "2023-11-10T02:36:18.459754Z",
     "start_time": "2023-11-10T02:36:18.455760Z"
    }
   },
   "outputs": [
    {
     "data": {
      "text/plain": [
       "72"
      ]
     },
     "execution_count": 16,
     "metadata": {},
     "output_type": "execute_result"
    }
   ],
   "source": [
    "len(monthly_averages_adt)"
   ]
  },
  {
   "cell_type": "markdown",
   "id": "05420ecd",
   "metadata": {},
   "source": [
    "## 获取时间"
   ]
  },
  {
   "cell_type": "code",
   "execution_count": 17,
   "id": "9910c74c",
   "metadata": {
    "ExecuteTime": {
     "end_time": "2023-11-10T02:36:30.413877Z",
     "start_time": "2023-11-10T02:36:30.408885Z"
    }
   },
   "outputs": [],
   "source": [
    "start_year = 2016\n",
    "end_year =2021\n",
    "time = []\n",
    "date_range = pd.date_range(datetime(start_year,1,1),datetime(end_year,12,31),freq='1m')\n",
    "len(date_range)\n",
    "for i in range(len(date_range)):\n",
    "    time.append(i)"
   ]
  },
  {
   "cell_type": "code",
   "execution_count": 18,
   "id": "084b98e2",
   "metadata": {
    "ExecuteTime": {
     "end_time": "2023-11-10T02:36:30.691430Z",
     "start_time": "2023-11-10T02:36:30.686438Z"
    }
   },
   "outputs": [
    {
     "data": {
      "text/plain": [
       "72"
      ]
     },
     "execution_count": 18,
     "metadata": {},
     "output_type": "execute_result"
    }
   ],
   "source": [
    "len(time)"
   ]
  },
  {
   "cell_type": "markdown",
   "id": "000bf99f",
   "metadata": {},
   "source": [
    "# 保存月平均数据"
   ]
  },
  {
   "cell_type": "code",
   "execution_count": 19,
   "id": "cf6aec79",
   "metadata": {
    "ExecuteTime": {
     "end_time": "2023-11-10T02:36:42.113406Z",
     "start_time": "2023-11-10T02:36:39.556525Z"
    }
   },
   "outputs": [],
   "source": [
    "#new_NC.close()\n",
    "new_NC = Dataset(\"D:/data/SSH/SSH_2016-2021_month.nc\", 'w', format='NETCDF4')\n",
    "\n",
    "'''\n",
    "定义维度，后一个参数表示维度的长度，因为是合并的同一个产品的数据，所以是统一\n",
    "的,注意维度的长度一定要和读入的数据匹配\n",
    "'''\n",
    "new_NC.createDimension('lat', len(lat))\n",
    "new_NC.createDimension('lon', len(lon))\n",
    "new_NC.createDimension('time', len(time))\n",
    "new_NC.createDimension('crs', 1)\n",
    "\n",
    "\n",
    "\n",
    "time_var = new_NC.createVariable('time', 'f4',(\"time\"))\n",
    "time_var.units = 'months since 2016-01-15'\n",
    "time_var.long_name = 'months'\n",
    "time_var.axis = 'T' \n",
    "\n",
    "\n",
    "new_NC.createVariable('lat', 'f', (\"lat\"))\n",
    "new_NC.createVariable('lon', 'f', (\"lon\"))\n",
    "\n",
    "new_NC.createVariable('ssh', 'f',(\"time\",\"lat\",\"lon\"))\n",
    "new_NC.createVariable('sla', 'f',(\"time\",\"lat\",\"lon\"))\n",
    "new_NC.createVariable('ssh_mask', 'f',(\"time\",\"lat\",\"lon\"))\n",
    "new_NC.createVariable('sla_mask', 'f',(\"time\",\"lat\",\"lon\"))\n",
    "\n",
    "new_NC.createVariable('crs', 'f',(\"crs\"))\n",
    "\n",
    "\n",
    "#向变量中填充数据\n",
    "new_NC.variables['lat'][:] = lat\n",
    "new_NC.variables['lon'][:] = lon\n",
    "new_NC.variables['time'][:] = np.array(time)\n",
    "\n",
    "new_NC.variables['ssh'][:]=np.array(monthly_averages_adt)\n",
    "new_NC.variables['sla'][:]=np.array(monthly_averages_sla)\n",
    "new_NC.variables['ssh_mask'][:]=np.array(adt_mask[0:1])\n",
    "new_NC.variables['sla_mask'][:]=np.array(sla_mask[0:1])\n",
    "\n",
    "new_NC.variables['crs'][:]=np.array(crs[0])\n",
    "\n",
    "#最后记得关闭文件\n",
    "new_NC.close()\n",
    "\n"
   ]
  },
  {
   "cell_type": "code",
   "execution_count": 34,
   "id": "15f98426",
   "metadata": {
    "ExecuteTime": {
     "end_time": "2023-11-09T11:20:00.939803Z",
     "start_time": "2023-11-09T11:20:00.935798Z"
    }
   },
   "outputs": [
    {
     "data": {
      "text/plain": [
       "(1, 720, 1440)"
      ]
     },
     "execution_count": 34,
     "metadata": {},
     "output_type": "execute_result"
    }
   ],
   "source": [
    "adt_mask[0:1].shape"
   ]
  },
  {
   "cell_type": "code",
   "execution_count": null,
   "id": "b47cab0d",
   "metadata": {},
   "outputs": [],
   "source": []
  }
 ],
 "metadata": {
  "kernelspec": {
   "display_name": "Python [conda env:python] *",
   "language": "python",
   "name": "conda-env-python-py"
  },
  "language_info": {
   "codemirror_mode": {
    "name": "ipython",
    "version": 3
   },
   "file_extension": ".py",
   "mimetype": "text/x-python",
   "name": "python",
   "nbconvert_exporter": "python",
   "pygments_lexer": "ipython3",
   "version": "3.8.17"
  },
  "toc": {
   "base_numbering": 1,
   "nav_menu": {},
   "number_sections": true,
   "sideBar": true,
   "skip_h1_title": false,
   "title_cell": "Table of Contents",
   "title_sidebar": "Contents",
   "toc_cell": false,
   "toc_position": {},
   "toc_section_display": true,
   "toc_window_display": false
  }
 },
 "nbformat": 4,
 "nbformat_minor": 5
}
